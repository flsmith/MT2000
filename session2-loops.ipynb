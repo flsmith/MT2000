{
 "cells": [
  {
   "cell_type": "markdown",
   "id": "519c6f95",
   "metadata": {},
   "source": [
    "# Mathematical Computing using Python - Session 2\n"
   ]
  },
  {
   "cell_type": "markdown",
   "id": "fe7fab21",
   "metadata": {},
   "source": [
    "# Introduction\n",
    "In the previous worksheet, we saw how to use Python to compute mathematical results like $\\sin(\\pi)$. This included the use of variables to simplify expressions. All of the code in the previous worksheet shared a major similarity; it was written to be executed from top to bottom within a cell, with each line being run once. However, most of the important tasks that computers are used for involve repeating steps a large number of times. A computer's ability to repeat steps quickly is one of the main things that differentiate them from humans.\n",
    "\n",
    "The first feature of Python we will learn for handling repetitive tasks is the `for` loop.\n",
    "We will introduce `for` loops through the turtle graphics introduced in the previous worksheet. In the following few exercises, we'll see how to use turtles to draw polygons.\n",
    "### Exercises\n",
    "In the previous worksheet, we saw that the code below makes a turtle draw an equilateral triangle on the screen."
   ]
  },
  {
   "cell_type": "code",
   "execution_count": null,
   "id": "ed2590c5",
   "metadata": {},
   "outputs": [],
   "source": [
    "from mobilechelonian import Turtle"
   ]
  },
  {
   "cell_type": "code",
   "execution_count": null,
   "id": "94e99835",
   "metadata": {},
   "outputs": [],
   "source": [
    "terry = Turtle()\n",
    "terry.speed(2)   # make terry move a bit faster; you can increase this up to 10\n",
    "# terry will trace out the path he moves along, like he has a pen attached to him\n",
    "# we repeatedly move forward 100 units then turn 120 degrees to the left\n",
    "terry.forward(100)\n",
    "terry.left(120)\n",
    "terry.forward(100)\n",
    "terry.left(120)\n",
    "terry.forward(100)"
   ]
  },
  {
   "cell_type": "markdown",
   "id": "793e84e0",
   "metadata": {},
   "source": [
    "Modify the code so that we get a pentagon instead.\n",
    "\n",
    "*Hint*: the amount you need to turn by is called the *exterior angle*; you may need to look up the exterior angle of a pentagon or the formula for the exterior angle of a regular $n$-sided polygon."
   ]
  },
  {
   "cell_type": "code",
   "execution_count": null,
   "id": "887c448f",
   "metadata": {},
   "outputs": [],
   "source": []
  },
  {
   "cell_type": "markdown",
   "id": "9b0009d8",
   "metadata": {},
   "source": [
    "# Basic `for` loops\n",
    "\n",
    "Your solution to the previous exercises probably involved a lot of repeated code. Repeating lines of code takes a long time and is prone to human error; it also does not allow the program to change how many times to run the lines based on other factors like user input. These issues are all addressed by the `for` loop. The following example uses a `for` loop to draw a square."
   ]
  },
  {
   "cell_type": "code",
   "execution_count": null,
   "id": "54d832a2",
   "metadata": {},
   "outputs": [],
   "source": [
    "turtle = Turtle()     # this turtle is inventively called turtle\n",
    "turtle.speed(3)       # make turtle move a bit faster\n",
    "# move forward and turn left by 90 degrees, 4 times\n",
    "for i in range(4):\n",
    "    turtle.forward(100)\n",
    "    turtle.left(90)\n",
    "turtle.left(360) # have the turtle do a spin when they finish drawing the square"
   ]
  },
  {
   "cell_type": "markdown",
   "id": "78f28202",
   "metadata": {},
   "source": [
    "Let's break this down.\n",
    "\n",
    "```\n",
    "for i in range(4):\n",
    "```\n",
    "\n",
    "This tells Python to repeat a block of code 4 times. We'll discuss exactly what each part of this command means in the next section.\n",
    "\n",
    "\n",
    "```\n",
    "    turtle.forward(100)\n",
    "    turtle.left(90)\n",
    "turtle.left(360)\n",
    "````\n",
    "The indented lines are called the *body* of the loop. The indentation is very important. All of the indented lines following a `for` loop are in the body of the loop and are repeated, while the next unindented line is not included in the loop body and is not repeated. In this case, `turtle.forward(100)` and `turtle.left(90)` are repeated 4 times but `turtle.left(360)` is not repeated."
   ]
  },
  {
   "cell_type": "markdown",
   "id": "f78eeb9f",
   "metadata": {},
   "source": [
    "### Exercise\n",
    "Use a `for` loop to draw a regular pentagon with a turtle."
   ]
  },
  {
   "cell_type": "code",
   "execution_count": null,
   "id": "09fd095e",
   "metadata": {},
   "outputs": [],
   "source": []
  },
  {
   "cell_type": "markdown",
   "id": "9d96ec09",
   "metadata": {},
   "source": [
    "### Exercise\n",
    "Have a turtle draw a square, turn $90^\\circ$ to the right, then draw a pentagon.\n",
    "\n",
    "**Note:** you can turn to the right by using `right` instead of `left`, or by turning left by a negative amount."
   ]
  },
  {
   "cell_type": "code",
   "execution_count": null,
   "id": "f8bcadbc",
   "metadata": {},
   "outputs": [],
   "source": []
  },
  {
   "cell_type": "markdown",
   "id": "f45bbbdf",
   "metadata": {},
   "source": [
    "### Exercise\n",
    "Write a `for` loop which draws a regular $n$-agon, where `n` is a variable you set before looping. Test your code for $n = 7$ and $n = 10$.\n",
    "\n",
    "*Hint:* you will need the formula for the exterior angle of a regular $n$-agon, and you will need to loop $n$ times. \n",
    "\n",
    "**Note:** if your turtle is acting strangely as it approaches the boundary of its area, this is caused by the  `mobilechelonian` module. You can avoid it by reducing the size of the edges of the polygon to stay well within the boundaries. You may also wish to increase the speed of your turtle as shown above."
   ]
  },
  {
   "cell_type": "code",
   "execution_count": null,
   "id": "52fb2aa1",
   "metadata": {},
   "outputs": [],
   "source": []
  },
  {
   "cell_type": "markdown",
   "id": "c70b6b3e",
   "metadata": {},
   "source": [
    "## Printing output to the screen\n",
    "Before we learn more about `for` loops, we will first see a more flexible way of displaying information from Python.\n",
    "So far, you have been getting output to the screen by writing the name of a variable at the end of a cell. This is often not flexible enough, so Python provides a `print` function for displaying output to the screen at any point. This allows you to display multiple values from one cell."
   ]
  },
  {
   "cell_type": "code",
   "execution_count": null,
   "id": "6a2d5aa3",
   "metadata": {},
   "outputs": [],
   "source": [
    "a = 3\n",
    "b = 4\n",
    "print(a + b)\n",
    "print(a - b)"
   ]
  },
  {
   "cell_type": "markdown",
   "id": "4760f612",
   "metadata": {},
   "source": [
    "It is considered bad practice to display values on the screen without any context, as in the above code cell. In order to print out a specific bit of text, we have to enclose the text in `\"` marks, like so:"
   ]
  },
  {
   "cell_type": "code",
   "execution_count": null,
   "id": "f7d9fc87",
   "metadata": {},
   "outputs": [],
   "source": [
    "for i in range(3):\n",
    "    print(\"This text will be printed three times.\")"
   ]
  },
  {
   "cell_type": "markdown",
   "id": "737af924",
   "metadata": {},
   "source": [
    "The `print` function is unlike any you have seen yet: it can take any number of arguments, separated by commas, and will display them all on one line (if possible). This allows us to display values along with a description of the value, which is better than just the value by itself!"
   ]
  },
  {
   "cell_type": "code",
   "execution_count": null,
   "id": "183c94d6",
   "metadata": {},
   "outputs": [],
   "source": [
    "import numpy as np\n",
    "print(\"The value of sin(pi/6) is\", np.sin(np.pi/6))"
   ]
  },
  {
   "cell_type": "markdown",
   "id": "e6a53770",
   "metadata": {},
   "source": [
    "Notice that the value displayed should be $0.5$; the difference is due to the rounding errors that occur when we represent decimals on computers using floating point numbers.\n",
    "\n",
    "**Note**: especially in Jupyter notebooks, it is usually unnecessary to `print` output to the screen. It is annoying for users of your code if you `print` large amounts of information or `print` values without context. On the other hand, `print` can be a very valuable tool for debugging: by displaying suitable messages, you can understand what is going on inside your program. Just be sure to remove the `print` statements you added for debugging after you're done!"
   ]
  },
  {
   "cell_type": "markdown",
   "id": "be2b24fc",
   "metadata": {},
   "source": [
    "We call pieces of text enclosed in `\"` marks like above *strings* (meaning letters or characters strung together). You can store strings in variables just like numbers, and manipulate them in many ways using Python. We will learn more about strings throughout future worksheets."
   ]
  },
  {
   "cell_type": "code",
   "execution_count": null,
   "id": "848c9f5c",
   "metadata": {},
   "outputs": [],
   "source": [
    "place = \"Moria\"\n",
    "\"Welcome to \" + place + \", enjoy your stay!\""
   ]
  },
  {
   "cell_type": "markdown",
   "id": "0c90fd60",
   "metadata": {},
   "source": [
    "### Exercise\n",
    "Fix the mistakes in the following code cell so that it runs and prints the message\n",
    "`When x = 0.3 , y = 3.15`"
   ]
  },
  {
   "cell_type": "code",
   "execution_count": null,
   "id": "528db828",
   "metadata": {},
   "outputs": [],
   "source": [
    "x = 0.3\n",
    "y = x ** 2 + 0.2x + 3\n",
    "print(When x =, x, \", y =\", y)"
   ]
  },
  {
   "cell_type": "markdown",
   "id": "8f98bf05",
   "metadata": {},
   "source": [
    "# Using `for` loop variables\n",
    "\n",
    "In the example and exercises above, we repeat a block of code $n$ times by using the command `for i in range(n)`.\n",
    "Let's break down what's really going on with this command. Calling `range(n)` returns the sequence $0, 1, \\ldots, n - 1$. The command `for i in range(n)` really means \"for each element of `range(n)` in order, set the variable `i` to be equal to that element and then run the body of the loop\". You can see this in the following example:"
   ]
  },
  {
   "cell_type": "code",
   "execution_count": null,
   "id": "e40191ff",
   "metadata": {},
   "outputs": [],
   "source": [
    "for i in range(3):\n",
    "    print(\"i is now\", i)\n",
    "    print(\"i squared is\", i ** 2)"
   ]
  },
  {
   "cell_type": "markdown",
   "id": "27d53b41",
   "metadata": {},
   "source": [
    "Since we wanted to do exactly the same thing in each \"iteration\" of the `for` loop in the examples in the previous section, there was no need to use the variable `i`. However, in many cases we wish to do something slightly different in each iteration, and we usually use `i` to achieve this.\n",
    "\n",
    "It's worth noting that `i` could be replaced with any valid variable name, but for iterating through integers `i` is standard. It is also very important to remember that `range(n)` goes from $0$ to $n-1$, which you might think is strange - why not $1$ to $n$? This convention is called $0$-indexing and is very common in programming.\n",
    "\n",
    "\n",
    "Let's consider how to use `for` loops to compute the sum\n",
    "$$S(n) = \\sum_{i = 0}^{n} i^2,$$\n",
    "\n",
    "where $n$ is fixed. When we are trying to write code to solve a problem, it is often the best strategy to first understand how we would systematically do the computation by hand. To compute $S(n)$, the simplest method is to keep a running total, starting with zero and adding $i^2$ to the total for $i = 1, \\ldots, n$. We might write this down in the following way:\n",
    "\n",
    "- We have some fixed $n \\in \\mathbb{N}$\n",
    "- Start with the total being 0  \n",
    "- For $i = 0, 1, 2, \\ldots, n$:  \n",
    "    - Add $i^2$ to the total\n",
    "- Report the total as the answer\n",
    "\n",
    "We call this sort of description of how to systematically solve a problem *pseudocode*. Pseudocode is not code and there is no specific standard which you must follow when writing it, but it should be possible to turn pseudocode directly into code. For example, the pseudocode above translates directly into Python like so:"
   ]
  },
  {
   "cell_type": "code",
   "execution_count": null,
   "id": "b1d265ef",
   "metadata": {},
   "outputs": [],
   "source": [
    "n = 10         # pick some arbitrary value for now.\n",
    "total = 0\n",
    "for i in range(n + 1):     # range(n + 1) so that n is included\n",
    "    total = total + (i ** 2)\n",
    "total"
   ]
  },
  {
   "cell_type": "markdown",
   "id": "612939f3",
   "metadata": {},
   "source": [
    "Notice how each line of the pseudo-code directly corresponds to a line in the Python code. We don't usually insist that the lines of pseudocode and code match one to one, but you should write pseudocode so that it is easy to translate each line of pseudocode into Python. Whenever you are stuck on how to program something, you should think about how you would do it systematically by hand and turn that into pseudocode. Even if you don't quite know how to turn the pseudocode into Python, it will be easier to obtain help or search the internet for the small steps in the pseudocode."
   ]
  },
  {
   "cell_type": "markdown",
   "id": "ec545f2a",
   "metadata": {},
   "source": [
    "### Exercise\n",
    "\n",
    "Use a `for` loop to compute the sum of the first $n$ odd positive integers, i.e. the value of\n",
    "$$Q(n) = \\sum_{i = 0}^{n - 1} (2i + 1),$$\n",
    "for $n = 200$ and $n = 250$. Check that you get $n^2$ as the answer."
   ]
  },
  {
   "cell_type": "code",
   "execution_count": null,
   "id": "3bb902b1",
   "metadata": {},
   "outputs": [],
   "source": []
  },
  {
   "cell_type": "markdown",
   "id": "3f1753d8",
   "metadata": {},
   "source": [
    "## Ranges\n",
    "In the examples above, we use `range(n)` to obtain the sequence $0, 1, 2, \\ldots, n - 1$.\n",
    "\n",
    "The more general way of calling `range` is `range(start, stop, step)`, where `start` is the first element of the sequence, `step` is the difference between the elements of the sequence, and the sequence runs for as long as possible without reaching `stop`. For example, to obtain the even numbers between 10 (inclusive) and 20 (exclusive) we could use `range(10, 20, 2)`. We can see the elements of this range using the function `list`."
   ]
  },
  {
   "cell_type": "code",
   "execution_count": null,
   "id": "41c11442",
   "metadata": {},
   "outputs": [],
   "source": [
    "list(range(10, 20, 2))"
   ]
  },
  {
   "cell_type": "markdown",
   "id": "ae32be37",
   "metadata": {},
   "source": [
    "You can leave out the `step` argument, in which case it will be 1."
   ]
  },
  {
   "cell_type": "code",
   "execution_count": null,
   "id": "1506fd2a",
   "metadata": {},
   "outputs": [],
   "source": [
    "list(range(10, 20))"
   ]
  },
  {
   "cell_type": "markdown",
   "id": "24a77918",
   "metadata": {},
   "source": [
    "You can also leave out the `start` argument, in which case it is 0. In the first example of a `for` loop above, we use `range(n)` to represent $0, 1, \\ldots, n - 1$."
   ]
  },
  {
   "cell_type": "code",
   "execution_count": null,
   "id": "748dc6db",
   "metadata": {},
   "outputs": [],
   "source": [
    "list(range(5))"
   ]
  },
  {
   "cell_type": "markdown",
   "id": "cc090961",
   "metadata": {},
   "source": [
    "### Exercise\n",
    "Find values for `start`, `stop`, and `step` so that `range(start, stop, step)` represents each of the following sequences:\n",
    "- 2, 3, 4\n",
    "- 2, 4, 6\n",
    "- 1, 3, 5, 7, 9\n",
    "- 10, 13, 16, 19\n",
    "- 100, 300, 500\n",
    "\n",
    "Test your answers using the `list` function as in the examples above."
   ]
  },
  {
   "cell_type": "code",
   "execution_count": null,
   "id": "eb4960fe",
   "metadata": {},
   "outputs": [],
   "source": []
  },
  {
   "cell_type": "markdown",
   "id": "fcfc88a0",
   "metadata": {},
   "source": [
    "Using an appropriate `range`, find the sum of the odd numbers between 1 and 1000."
   ]
  },
  {
   "cell_type": "code",
   "execution_count": null,
   "id": "2c440933",
   "metadata": {},
   "outputs": [],
   "source": []
  },
  {
   "cell_type": "markdown",
   "id": "4dfd68ef",
   "metadata": {},
   "source": [
    "# Nested loops\n",
    "It is often useful to \"nest\" a loop inside another loop. When this occurs, the \"inner\" loop (i.e. the one inside the body of the other loop) will be fully executed, then the \"outer\" loop will loop and the inner loop will execute again.\n",
    "\n",
    "This idea is easiest seen by example. Notice that the body of the inner loop is indented two levels."
   ]
  },
  {
   "cell_type": "code",
   "execution_count": null,
   "id": "d661e1bf",
   "metadata": {},
   "outputs": [],
   "source": [
    "for i in range(2):\n",
    "    print(\"Start of the outer loop body\")\n",
    "    for j in range(3, 6):\n",
    "        print(\"Outer loop variable is\", i, \"and inner loop variable is\", j)\n",
    "    print(\"End of the outer loop body\")"
   ]
  },
  {
   "cell_type": "markdown",
   "id": "d1177637",
   "metadata": {},
   "source": [
    "This might seem like a strange thing to want to do, but many problems involve repeating a repetitive task.\n",
    "For example, suppose you have an inbox full of emails you need to respond to. You could represent the basic process of responding to all your emails like this:\n",
    "\n",
    "- For each email in your inbox:\n",
    "    - For each word in the email:\n",
    "        - Read the word\n",
    "    - Think of a response\n",
    "    - For each word of the response:\n",
    "        - Write the word\n",
    "        - Add any necessary punctuation\n",
    "\n",
    "We could also break down writing words into repeatedly typing letters - another level of nesting in our repetition! You can nest loops as much as you want in Python, but if you find yourself with many levels of nesting it is usually a sign that you need to reconsider what you are doing and try to simplify it.\n",
    "\n",
    "In the following example, we output some short multiplication tables."
   ]
  },
  {
   "cell_type": "code",
   "execution_count": null,
   "id": "9f845964",
   "metadata": {},
   "outputs": [],
   "source": [
    "for i in range(7, 10):\n",
    "    print(i, \"times table:\")\n",
    "    for j in range(1, 5):\n",
    "        print(i, \"times\", j, \"is\", i*j)\n",
    "    print() # create a blank line"
   ]
  },
  {
   "cell_type": "markdown",
   "id": "ba7d6a18",
   "metadata": {},
   "source": [
    "### Exercises\n",
    "Using nested `for` loops, print the message `i divided by j is X` for each value $i$ and $j$ such that $7 \\leq i \\leq 9$ and $3 \\leq j \\leq 5$."
   ]
  },
  {
   "cell_type": "code",
   "execution_count": null,
   "id": "86f473dd",
   "metadata": {},
   "outputs": [],
   "source": []
  },
  {
   "cell_type": "markdown",
   "id": "c374e73a",
   "metadata": {},
   "source": [
    "Using the code you wrote to draw regular pentagons above, have a turtle draw 10 regular pentagons, turning $36^\\circ$ to the right after drawing each pentagon. It should look something like the image below.\n",
    "\n",
    "<img src=\"img/rotated-pentagons.png\" width=\"175\" alt=\"A pattern formed from ten regular pentagons, sharing a common centre and with each rotated 36 degrees from the last.\">\n",
    "\n",
    "**Note:** you will probably want to call `<turtle>.speed(10)` before drawing (where `<turtle>` should be replaced with whatever you call your turtle)."
   ]
  },
  {
   "cell_type": "code",
   "execution_count": null,
   "id": "8c5fd01a",
   "metadata": {},
   "outputs": [],
   "source": []
  },
  {
   "cell_type": "markdown",
   "id": "31e789fe",
   "metadata": {},
   "source": [
    "# Additional Exercises"
   ]
  },
  {
   "cell_type": "markdown",
   "id": "5aba4347",
   "metadata": {},
   "source": [
    "Use a `for` loop to compute $n! = 1 \\times 2 \\times \\cdots \\times (n-1) \\times n$, for $n = 3, 7, 15$. Check your answer with the `math.factorial` function.\n",
    "\n",
    "*Hint:* if you get stuck, try to write pseudocode. It should look quite similar to the pseudocode above for computing the sum of the square numbers."
   ]
  },
  {
   "cell_type": "code",
   "execution_count": null,
   "id": "c5eccb01",
   "metadata": {},
   "outputs": [],
   "source": [
    "import math\n",
    "# your code here"
   ]
  },
  {
   "cell_type": "markdown",
   "id": "ec82772b",
   "metadata": {},
   "source": [
    "In 1734, Leonhard Euler discovered the formula\n",
    "$$\\sum_{i = 1}^{\\infty} \\frac{1}{i^2} = \\frac{\\pi^2}{6}.$$\n",
    "\n",
    "Use Python to compute the partial sum $\\sum_{i = 1}^{100} \\frac{1}{i^2}$ using a `for` loop. How large is the difference between the partial sum and $\\frac{\\pi^2}{6}$?"
   ]
  },
  {
   "cell_type": "code",
   "execution_count": null,
   "id": "fc22b9cc",
   "metadata": {},
   "outputs": [],
   "source": []
  },
  {
   "cell_type": "markdown",
   "id": "9eeb7287",
   "metadata": {},
   "source": [
    "Use nested `for` loops to have a turtle draw a triangle, square, and pentagon where the bottom-left corner of each shape coincides, as shown in the image below.\n",
    "\n",
    "<img src=\"img/conc-corner-polygons.png\" width=\"175\" alt=\"A triangle, square, and pentagon drawn using a turtle, and sharing a common bottom-left corner\">\n",
    "\n",
    "*Hint:* your outer loop variable should represent the number of sides of the shape you're drawing."
   ]
  },
  {
   "cell_type": "code",
   "execution_count": null,
   "id": "bfd69d59",
   "metadata": {},
   "outputs": [],
   "source": []
  },
  {
   "cell_type": "markdown",
   "id": "e0eb6b96",
   "metadata": {},
   "source": [
    "Modify your code above so that the first side of the square and pentagon is drawn on top of the last side of the previous shape, as shown in the following image.\n",
    "\n",
    "<img src=\"img/shared-edge-polygons.png\" width=\"175\" alt=\"A triangle, square, and pentagon drawn using a turtle, where the triangle and pentagon share sides with the square.\">\n",
    "\n",
    "*Hint:* you need to work out what angle to turn after drawing each shape - use pen and paper!"
   ]
  },
  {
   "cell_type": "code",
   "execution_count": null,
   "id": "b6858f7d",
   "metadata": {},
   "outputs": [],
   "source": []
  },
  {
   "cell_type": "markdown",
   "id": "2e14ecb3",
   "metadata": {},
   "source": [
    "Use a `for` loop to sum up the first 10 terms in the Taylor series of \n",
    "$$       \n",
    "e^{x}= 1 + x + \\frac{x^2}{2!} + \\frac{x^3}{3!} + ... \\nonumber\n",
    "$$\n",
    "at the point $x=\\pi$. Compare it to the exact answer.\n",
    "\n",
    "**Note:** the general expression for a term in the series is $x{^n}/(n!)$. You will probably need the `math.factorial` and `np.exp` functions."
   ]
  },
  {
   "cell_type": "code",
   "execution_count": null,
   "id": "51454667",
   "metadata": {},
   "outputs": [],
   "source": []
  },
  {
   "cell_type": "markdown",
   "id": "4c6c5fd8",
   "metadata": {},
   "source": [
    "**Optional**\n",
    "\n",
    "Use nested `for` loops to compute the value of\n",
    "$$ \\sum_{j=2}^{n} \\sum_{i=2}^{m} \\, \\frac{1}{i^{j}}$$\n",
    "for various positive integers $m$ and $n$. Use this to come up with a hypothesis for the value of\n",
    "$$ \\sum_{j=2}^{\\infty} \\sum_{i=2}^{\\infty} \\, \\frac{1}{i^{j}}.$$\n",
    "Can you prove your hypothesis?"
   ]
  },
  {
   "cell_type": "code",
   "execution_count": null,
   "id": "0195e1dc",
   "metadata": {},
   "outputs": [],
   "source": []
  }
 ],
 "metadata": {
  "kernelspec": {
   "display_name": "Python 3",
   "language": "python",
   "name": "python3"
  },
  "language_info": {
   "codemirror_mode": {
    "name": "ipython",
    "version": 3
   },
   "file_extension": ".py",
   "mimetype": "text/x-python",
   "name": "python",
   "nbconvert_exporter": "python",
   "pygments_lexer": "ipython3",
   "version": "3.8.8"
  }
 },
 "nbformat": 4,
 "nbformat_minor": 5
}
