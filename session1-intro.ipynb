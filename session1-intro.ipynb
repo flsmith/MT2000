{
 "cells": [
  {
   "cell_type": "markdown",
   "id": "894e7430",
   "metadata": {
    "heading_collapsed": true
   },
   "source": [
    "# Mathematical Computing using Python - Session 1"
   ]
  },
  {
   "cell_type": "markdown",
   "id": "2ea6c313",
   "metadata": {
    "nbgrader": {
     "grade": false,
     "grade_id": "cell-e3cb3ff9d0e83f00",
     "locked": true,
     "schema_version": 3,
     "solution": false,
     "task": false
    }
   },
   "source": [
    "# Introduction\n",
    "(You can collapse this section using the arrow to the left of this cell)"
   ]
  },
  {
   "cell_type": "markdown",
   "id": "efa5bbc2",
   "metadata": {
    "nbgrader": {
     "grade": false,
     "grade_id": "cell-adea8b148f8c578b",
     "locked": true,
     "schema_version": 3,
     "solution": false,
     "task": false
    }
   },
   "source": [
    "Welcome to the Mathematical Computing Using Python workshops. These workshops are designed to introduce you to the fundamentals of solving mathematical problems using the programming language Python. By the end of these workshops, you should have the knowledge necessary to tackle computational projects in your future maths modules.\n",
    "The lecture notes for this workshop are provided as Jupyter Notebooks, which contain executable examples as well as exercises at the end. You should read through the notes and make an attempt at the exercises before attending the sessions - this way you will get the most out of the help available.\n",
    "\n",
    "More details on the format of the workshop are available TODO.\n",
    "\n",
    "### What is Computation?\n",
    "\n",
    "\"Computation\" refers to any mathematical process we carry out following a well-defined routine. Much of the mathematics you already know involves computation. For example, in order to calculate the integral\n",
    "$\\int_{0}^1 (3x^3 + x^2 - 2x + 1)dx$\n",
    "we simply follow the \"power rules\" to obtain\n",
    "\n",
    "$$\\int_{0}^1 (3x^3 + x^2 - 2x + 1)dx = (\\frac{3}{4}1^4 + \\frac{1}{3}1^3 - 1^2 + 1) - (\\frac{3}{4}0^4 + \\frac{1}{3}0^3 - 0^2 + 0) = \\frac{13}{12}.$$\n",
    "\n",
    "On the other hand, if the function is defined in a more complicated way, we might not know any routine for  systematically computing the integral. For example,\n",
    "$$\\int_{-\\infty}^\\infty e^{-x^2} dx = \\sqrt{\\pi}$$\n",
    "but to calculate this requires a geometric \"trick\".\n",
    "\n",
    "As the name suggests, computers are very good at computation! At a basic level, computers can only perform simple operations like addition, but they can do them very quickly. Everything computers do is built out of layers of these simple operations. Computational mathematics is about how to define different mathematical processes to a computer so that we can obtain results that would be to difficult to compute by hand. For example, it would take you a long time to compute the mean of a data set with ten thousand entries by hand, but a computer could do so nearly instantly! As computers improve, they are increasingly important in mathematics. Some examples of their use include:\n",
    "\n",
    "- Applied mathematicians use iterative and other numerical methods to understand systems of differential equations for which we have no analytic solutions.\n",
    "- Statisticians and computer scientists understand large data sets using methods involving too many parameters to work with by hand.\n",
    "- Physicists and sociologists use computational simulation to go beyond what is possible in \"real world\" experiments.\n",
    "- Computational mathematicians have discovered theorems and proof strategies that are too complicated to carry out by hand.\n",
    "- Even traditional mathematicians, whose focus still lies in theorems and formal proofs, use computers to discover patterns and test conjectures.\n",
    "\n",
    "The process of writing down how to solve a problem in simple steps which can be understood by a computer is called *programming* or *coding*. Programming is an extremely useful mathematical skill, as well as being a vital component of many careers. The purpose of this workshop is to give you the foundation in programming that you will need for future modules.\n",
    "\n",
    "### Python\n",
    "The basic instructions that computers understand are limited and difficult to work with directly. Instead, we write programs in a programming language. The programming language is then converted into the basic instructions, although we usually do not need to worry about that step. There are many programming languages, but in this workshop, you will learn Python. Python is widely available, relatively easy to learn and use, and reasonably good for each of the mathematical tasks mentioned above. For this reason, you will use it in many of the modules in your degree going forward. Specialized modules may use other languages, but your skill in Python will transfer over.\n",
    "\n",
    "### Jupyter Notebooks\n",
    "\n",
    "We will be running Python inside *Jupyter Notebooks*. These allow for text and code to be mixed together, and you can run all of the examples in these notes if you have opened the notes as Jupyter Notebooks. Guidance on how to access the notes as Notebooks is available on MMS. There are other methods of using Python, which you may encounter in later modules. Notebooks are divided into *cells*, which may contain text or code. The following cell contains a some Python code which just adds together 3 and 4. You can run the cell by selecting it and then clicking the \"Run\" button at the top, or using the shortcut \"Ctrl-Enter\"."
   ]
  },
  {
   "cell_type": "code",
   "execution_count": null,
   "id": "433a2dc2",
   "metadata": {},
   "outputs": [],
   "source": [
    "3 + 4"
   ]
  },
  {
   "cell_type": "markdown",
   "id": "9c96adf7",
   "metadata": {
    "nbgrader": {
     "grade": false,
     "grade_id": "cell-abd1af000ee72bfd",
     "locked": true,
     "schema_version": 3,
     "solution": false,
     "task": false
    }
   },
   "source": [
    "The number 7 should be output after running the cell. If it is not then please try again or ask for help. You can insert new cells using the \"Insert\" menu and delete cells using the \"Edit\" menu. You might need to change between the cell types using the \"Cell>Cell Type\" menu: use \"Code\" for cells containing Python code, and \"Markdown\" for text."
   ]
  },
  {
   "cell_type": "markdown",
   "id": "ccafb5b6",
   "metadata": {},
   "source": [
    "# A brief introduction to Turtles\n",
    "A running example throughout this workshop is using a turtle to draw shapes on the screen. Try running the code cell below to create your first Turtle graphic."
   ]
  },
  {
   "cell_type": "code",
   "execution_count": null,
   "id": "181de91d",
   "metadata": {},
   "outputs": [],
   "source": [
    "# Turtles don't come in basic Python, we need to get them from a module\n",
    "from mobilechelonian import Turtle\n",
    "\n",
    "terry = Turtle()     # create a turtle, and call him terry\n",
    "\n",
    "# terry will trace out the path he moves along, like he has a pen attached to him\n",
    "terry.forward(100)   # move terry forward 100 units\n",
    "terry.left(90)       # turn terry left 90 degrees\n",
    "terry.forward(100)   # move terry forward 100 units again"
   ]
  },
  {
   "cell_type": "markdown",
   "id": "d82d59cf",
   "metadata": {},
   "source": [
    "We'll explain everything that went on in the above cell throughout this workshop. The first thing to know is Python will run the lines in a code cell from top to bottom. Anything following a `#` character in a line is ignored by Python; we call such lines *comments*.\n",
    "\n",
    "### Exercise\n",
    "Copy the code in the previous cell into the cell below, and modify it so that `terry` draws a square."
   ]
  },
  {
   "cell_type": "code",
   "execution_count": null,
   "id": "cd0367cf",
   "metadata": {},
   "outputs": [],
   "source": []
  },
  {
   "cell_type": "markdown",
   "id": "57454dba",
   "metadata": {},
   "source": [
    "We'll return to turtle graphics later."
   ]
  },
  {
   "cell_type": "markdown",
   "id": "4764d852",
   "metadata": {
    "nbgrader": {
     "grade": false,
     "grade_id": "cell-0a4bc928f68e8800",
     "locked": true,
     "schema_version": 3,
     "solution": false,
     "task": false
    }
   },
   "source": [
    "# Arithmetic"
   ]
  },
  {
   "cell_type": "markdown",
   "id": "99eb84b1",
   "metadata": {
    "nbgrader": {
     "grade": false,
     "grade_id": "cell-8ee47be47de9124f",
     "locked": true,
     "schema_version": 3,
     "solution": false,
     "task": false
    }
   },
   "source": [
    "The simplest way to use Python is just as a fancy calculator. As we saw above, we can add using `+`. We can also subtract using `-`."
   ]
  },
  {
   "cell_type": "code",
   "execution_count": null,
   "id": "24257ea6",
   "metadata": {},
   "outputs": [],
   "source": [
    "3 - 4"
   ]
  },
  {
   "cell_type": "markdown",
   "id": "e438892b",
   "metadata": {
    "nbgrader": {
     "grade": false,
     "grade_id": "cell-01415f3e9cc4c975",
     "locked": true,
     "schema_version": 3,
     "solution": false,
     "task": false
    }
   },
   "source": [
    "Multiplication is done using the `*` character."
   ]
  },
  {
   "cell_type": "code",
   "execution_count": null,
   "id": "f99f1943",
   "metadata": {},
   "outputs": [],
   "source": [
    "3 * -4"
   ]
  },
  {
   "cell_type": "markdown",
   "id": "f1cb4da8",
   "metadata": {
    "nbgrader": {
     "grade": false,
     "grade_id": "cell-4cf7e17fd3b6e6b3",
     "locked": true,
     "schema_version": 3,
     "solution": false,
     "task": false
    }
   },
   "source": [
    "And division is done using `/`."
   ]
  },
  {
   "cell_type": "code",
   "execution_count": null,
   "id": "d47016cb",
   "metadata": {},
   "outputs": [],
   "source": [
    "3/4"
   ]
  },
  {
   "cell_type": "markdown",
   "id": "4f3d3c21",
   "metadata": {
    "nbgrader": {
     "grade": false,
     "grade_id": "cell-39001667425c8a98",
     "locked": true,
     "schema_version": 3,
     "solution": false,
     "task": false
    }
   },
   "source": [
    "As the previous output suggests, we can use decimals as normal. We call these *floating point* numbers or *floats* for short. All of the operations work on them just like you would expect."
   ]
  },
  {
   "cell_type": "code",
   "execution_count": null,
   "id": "1a32c44f",
   "metadata": {},
   "outputs": [],
   "source": [
    "0.75 * 2"
   ]
  },
  {
   "cell_type": "markdown",
   "id": "9e507377",
   "metadata": {
    "nbgrader": {
     "grade": false,
     "grade_id": "cell-d7276889452c9daf",
     "locked": true,
     "schema_version": 3,
     "solution": false,
     "task": false
    }
   },
   "source": [
    "In order to take powers, we use `**`, like so:"
   ]
  },
  {
   "cell_type": "code",
   "execution_count": null,
   "id": "a0529303",
   "metadata": {},
   "outputs": [],
   "source": [
    "2 ** 3"
   ]
  },
  {
   "cell_type": "code",
   "execution_count": null,
   "id": "43e8807f",
   "metadata": {},
   "outputs": [],
   "source": [
    "9 ** 0.5"
   ]
  },
  {
   "cell_type": "markdown",
   "id": "d4fc5bf1",
   "metadata": {
    "nbgrader": {
     "grade": false,
     "grade_id": "cell-c334760e7918a1f7",
     "locked": true,
     "schema_version": 3,
     "solution": false,
     "task": false
    }
   },
   "source": [
    "**Be careful!**\n",
    "\n",
    "You might be familiar with using `^` for powers, but this means something different in Python and will give you strange answers if you forget!"
   ]
  },
  {
   "cell_type": "code",
   "execution_count": null,
   "id": "664d4d8c",
   "metadata": {},
   "outputs": [],
   "source": [
    "2 ^ 3"
   ]
  },
  {
   "cell_type": "markdown",
   "id": "80de8ee6",
   "metadata": {
    "nbgrader": {
     "grade": false,
     "grade_id": "cell-a24ea188eccfb093",
     "locked": true,
     "schema_version": 3,
     "solution": false,
     "task": false
    }
   },
   "source": [
    "We can do more than one operation in the same line. The order in which operations are carried out follows the usual \"BODMAS/PEMDAS\" rules; brackets are evaluated first, followed by powers, then multiplication and division, then addition and subtraction. To avoid any confusion it's often best to emphasize the order using brackets!"
   ]
  },
  {
   "cell_type": "code",
   "execution_count": null,
   "id": "73b27d55",
   "metadata": {},
   "outputs": [],
   "source": [
    "(0.5 + 1) * 2 + 1"
   ]
  },
  {
   "cell_type": "markdown",
   "id": "8eaf9ee4",
   "metadata": {
    "nbgrader": {
     "grade": false,
     "grade_id": "cell-036c6687afe52589",
     "locked": true,
     "schema_version": 3,
     "solution": false,
     "task": false
    }
   },
   "source": [
    "### Exercises\n",
    "Use Python to calculate $0.2^{3.5}$ in the next cell."
   ]
  },
  {
   "cell_type": "code",
   "execution_count": null,
   "id": "bf7d4986",
   "metadata": {},
   "outputs": [],
   "source": []
  },
  {
   "cell_type": "markdown",
   "id": "f1c4ab22",
   "metadata": {
    "nbgrader": {
     "grade": false,
     "grade_id": "cell-715e415b929e51c4",
     "locked": true,
     "schema_version": 3,
     "solution": false,
     "task": false
    }
   },
   "source": [
    "Use Python to calculate $5(1.2+102.7)$ in the next cell."
   ]
  },
  {
   "cell_type": "code",
   "execution_count": null,
   "id": "abec67b8",
   "metadata": {},
   "outputs": [],
   "source": []
  },
  {
   "cell_type": "markdown",
   "id": "dff94ca4",
   "metadata": {
    "nbgrader": {
     "grade": false,
     "grade_id": "cell-715e415b929e51c4",
     "locked": true,
     "schema_version": 3,
     "solution": false,
     "task": false
    }
   },
   "source": [
    "Use Python to calculate $0.2^{3.5}-5(1.2+102.7)$. You can insert a new cell below by selecting this cell and using the \"Insert\" menu; make sure it is a \"Code\" cell in the \"Cell>Cell Type\" menu."
   ]
  },
  {
   "cell_type": "markdown",
   "id": "0db9dce4",
   "metadata": {
    "nbgrader": {
     "grade": false,
     "grade_id": "cell-d53245a1960f25c6",
     "locked": true,
     "schema_version": 3,
     "solution": false,
     "task": false
    }
   },
   "source": [
    "# Variables\n",
    "Suppose we wanted to know $0.2^{3.5}$ and $1.2 + 102.7$ as well as $0.2^{3.5}-5(1.2+102.7)$ and $0.2^{3.5} + 12(1.2 + 102.7)$. It would be frustrating if we had to type in all of each expression each time, and might lead to mistakes. One feature of Python that can help us is *variables*. We can assign the values of $0.2^{3.5}$ and $1.2 + 102.7$ to two variables and use these variables to compute $0.2^{3.5}-5(1.2+102.7)$ and $0.2^{3.5} + 12(1.2 + 102.7)$."
   ]
  },
  {
   "cell_type": "code",
   "execution_count": null,
   "id": "14a08683",
   "metadata": {},
   "outputs": [],
   "source": [
    "power_term = 0.4 ** 3.5\n",
    "sum_term = 1.2 + 102.7"
   ]
  },
  {
   "cell_type": "markdown",
   "id": "6b705a1b",
   "metadata": {
    "nbgrader": {
     "grade": false,
     "grade_id": "cell-31f7ddb3efc37efe",
     "locked": true,
     "schema_version": 3,
     "solution": false,
     "task": false
    }
   },
   "source": [
    "The `=` in the above cell means that we are *assigning* the value $0.2^{3.5}$ to the variable `power_term` and the value $1.2 + 102.7$ to the variable `sum_term`. We saw this before in the turtle graphics example: we created a variable called `terry` which contained a turtle.\n",
    "\n",
    "One way of thinking about variables are that they are labeled \"boxes\" containing a single thing. Here we have made two boxes labeled `power_term` and `sum_term`, and each of them contains a single number. Whenever we use the name of a variable in an expression, Python replaces it with the contents of the box. We can output the contents of a variable by just writing its name:"
   ]
  },
  {
   "cell_type": "code",
   "execution_count": null,
   "id": "52e8ebb1",
   "metadata": {},
   "outputs": [],
   "source": [
    "power_term"
   ]
  },
  {
   "cell_type": "markdown",
   "id": "74bf3b5f",
   "metadata": {
    "nbgrader": {
     "grade": false,
     "grade_id": "cell-cabd98468fa06f2a",
     "locked": true,
     "schema_version": 3,
     "solution": false,
     "task": false
    }
   },
   "source": [
    "And we can compute $0.2^{3.5}-5(1.2+102.7)$ using the variables `power_term` and `sum_term` like so:"
   ]
  },
  {
   "cell_type": "code",
   "execution_count": null,
   "id": "4717057b",
   "metadata": {},
   "outputs": [],
   "source": [
    "power_term - 5 * sum_term"
   ]
  },
  {
   "cell_type": "markdown",
   "id": "3d790afa",
   "metadata": {},
   "source": [
    "As well as $0.2^{3.5} + 12(1.2 + 102.7)$:"
   ]
  },
  {
   "cell_type": "code",
   "execution_count": null,
   "id": "af621b8c",
   "metadata": {},
   "outputs": [],
   "source": [
    "power_term + 12 * sum_term"
   ]
  },
  {
   "cell_type": "markdown",
   "id": "2ff2e0de",
   "metadata": {
    "nbgrader": {
     "grade": false,
     "grade_id": "cell-cf8ea1ca1cb8f7f4",
     "locked": true,
     "schema_version": 3,
     "solution": false,
     "task": false
    }
   },
   "source": [
    "Another way that variables are like boxes is that we can replace the contents of a variable. For example, if we instead wanted to replace $(1.2+102.7)$ with $(120 + 102.7)$ in the calculations above, we could re-assign the `sum_term` variable. This is like discarding the previous contents of the box and putting the new value in."
   ]
  },
  {
   "cell_type": "code",
   "execution_count": null,
   "id": "29088a77",
   "metadata": {},
   "outputs": [],
   "source": [
    "sum_term = 120 + 102.7"
   ]
  },
  {
   "cell_type": "markdown",
   "id": "a7c376cf",
   "metadata": {},
   "source": [
    "This ability to re-assign variables can lead to some code which looks very strange from a mathematical point of view!"
   ]
  },
  {
   "cell_type": "code",
   "execution_count": null,
   "id": "5fd85240",
   "metadata": {},
   "outputs": [],
   "source": [
    "a = 2\n",
    "a = a/4 + 1\n",
    "a"
   ]
  },
  {
   "cell_type": "markdown",
   "id": "1e12b24d",
   "metadata": {},
   "source": [
    "The line `a = a/4 + 1` looks mathematically strange, but it really just means \"redefine `a` to mean the current value of `a`, divided by four, plus one\"."
   ]
  },
  {
   "cell_type": "markdown",
   "id": "7b012c2a",
   "metadata": {
    "nbgrader": {
     "grade": false,
     "grade_id": "cell-2239055d7b92732d",
     "locked": true,
     "schema_version": 3,
     "solution": false,
     "task": false
    }
   },
   "source": [
    "### Exercises\n",
    "Assign the values $0.2^{3.5}-5(120+102.7)$ and $0.2^{3.5} + 12(120 + 102.7)$ to  variables called `result1` and `result2`. You should use the variables `power_term` and `result_term`."
   ]
  },
  {
   "cell_type": "code",
   "execution_count": null,
   "id": "e26ac3af",
   "metadata": {},
   "outputs": [],
   "source": []
  },
  {
   "cell_type": "markdown",
   "id": "2b2ff3b8",
   "metadata": {},
   "source": [
    "Set $x=0.45$. Use this to calculate and store another variable $y=x^{3}+3x^{2}+2x+1$. Output the value of $y$."
   ]
  },
  {
   "cell_type": "code",
   "execution_count": null,
   "id": "fd8af1b0",
   "metadata": {},
   "outputs": [],
   "source": []
  },
  {
   "cell_type": "markdown",
   "id": "afc3efdf",
   "metadata": {},
   "source": [
    "Predict what the output of the following code cells will be, then run them to test your prediction. Remember that when multiple lines of Python are in one cell, they will be run one after another from top to bottom. Make sure you understand why the code cells give the output that they do!"
   ]
  },
  {
   "cell_type": "code",
   "execution_count": null,
   "id": "ca58e487",
   "metadata": {},
   "outputs": [],
   "source": [
    "a = 1\n",
    "b = a + 1\n",
    "a = b + 2\n",
    "a"
   ]
  },
  {
   "cell_type": "code",
   "execution_count": null,
   "id": "a6f84181",
   "metadata": {},
   "outputs": [],
   "source": [
    "a = 2\n",
    "b = 3\n",
    "c = a * b\n",
    "a = c ** a\n",
    "a"
   ]
  },
  {
   "cell_type": "markdown",
   "id": "ecfba879",
   "metadata": {
    "nbgrader": {
     "grade": false,
     "grade_id": "cell-044c350e54f322db",
     "locked": true,
     "schema_version": 3,
     "solution": false,
     "task": false
    }
   },
   "source": [
    "# Further mathematical commands\n",
    "The basic Python language doesn't contain many more commands for doing maths. If we want more complex commands like trigonometric functions, we have to `import` a *module* which offers those commands. There are a number of modules that provide mathematical functions. The one you will most commonly use is `numpy` (which stands for numerical Python). There are several ways of importing modules. For now, we'll import *numpy* in the following way:"
   ]
  },
  {
   "cell_type": "code",
   "execution_count": null,
   "id": "38178072",
   "metadata": {},
   "outputs": [],
   "source": [
    "import numpy as np"
   ]
  },
  {
   "cell_type": "markdown",
   "id": "14b2f453",
   "metadata": {
    "nbgrader": {
     "grade": false,
     "grade_id": "cell-6fbbf0a3cee70a20",
     "locked": true,
     "schema_version": 3,
     "solution": false,
     "task": false
    }
   },
   "source": [
    "The previous cell told Python to make the *numpy* module available, and call it `np`.\n",
    "We can now use the functions provided by *numpy* like so:"
   ]
  },
  {
   "cell_type": "code",
   "execution_count": null,
   "id": "88e4f170",
   "metadata": {},
   "outputs": [],
   "source": [
    "np.cos(0)"
   ]
  },
  {
   "cell_type": "markdown",
   "id": "9f41014e",
   "metadata": {},
   "source": [
    "Note that numpy works in radians. You can get the value of pi using `np.pi`, so we can compute:"
   ]
  },
  {
   "cell_type": "code",
   "execution_count": null,
   "id": "c3e2d7e7",
   "metadata": {},
   "outputs": [],
   "source": [
    "np.sin(np.pi / 2)"
   ]
  },
  {
   "cell_type": "markdown",
   "id": "3285006c",
   "metadata": {
    "nbgrader": {
     "grade": false,
     "grade_id": "cell-1c8955cc17a83ad3",
     "locked": true,
     "schema_version": 3,
     "solution": false,
     "task": false
    }
   },
   "source": [
    "When we write `np.cos(0)`, we are \"*calling the function `np.cos` with argument 0*\". We will later see how to write and call our own functions.\n",
    "\n",
    "*Numpy* contains many other useful mathematical functions, listed [here](https://numpy.org/doc/stable/reference/routines.math.html#). It's not worth trying to remember all of them; just remember that this list exists!\n",
    "We could have also imported *numpy* using `import numpy`. We would then use the functions in it by writing, for example, `numpy.cos(0)`."
   ]
  },
  {
   "cell_type": "markdown",
   "id": "a2866d45",
   "metadata": {},
   "source": [
    "### Exercises\n",
    "Suppose you want to verify with Python that you correctly remember that $\\cos(180^\\circ) = -1$.\n",
    "*Numpy* provides a function `radians` which converts degrees to radians. Use it to define a variable `x` representing the number of radians in $180^\\circ$, and then use `x` to compute $\\cos(180^\\circ)$ using the `cos` function from *numpy*."
   ]
  },
  {
   "cell_type": "code",
   "execution_count": null,
   "id": "c6c5b730",
   "metadata": {},
   "outputs": [],
   "source": []
  },
  {
   "cell_type": "markdown",
   "id": "c272354c",
   "metadata": {},
   "source": [
    "The first three terms of the Taylor series for $\\cosh x$ and $\\sinh x$ are as follows:\n",
    "$$ \\cosh x \\approx 1 + \\frac{x^2}{2} + \\frac{x^4}{24}$$\n",
    "$$ \\sinh x \\approx x + \\frac{x^3}{6} + \\frac{x^5}{120}$$\n",
    "Compute the values of these truncated Taylor series for $x = \\frac{\\pi}{4}$, and store them in variables `y` (for the $\\cosh$ series) and `z` (for the $\\sinh$ series). Compute $y - \\cosh(\\frac{\\pi}{4})$ and $z - \\sinh(\\frac{\\pi}{4})$. Finally, find $y + z - e^{\\frac{\\pi}{4}}$.\n",
    "\n",
    "You will need the functions `cosh`, `sinh`, and `exp` from *numpy*. It's worth searching the internet for how to use them - this is a very valuable skill when programming!"
   ]
  },
  {
   "cell_type": "code",
   "execution_count": null,
   "id": "fde45a00",
   "metadata": {},
   "outputs": [],
   "source": []
  },
  {
   "cell_type": "markdown",
   "id": "27f5ec79",
   "metadata": {},
   "source": [
    "# Errors and debugging\n",
    "A lot of the time you spend programming will be in the process of \"debugging\" your code. This is the process of removing mistakes (\"bugs\") from the code so that it produces the correct answer. There are three categories of mistake, usually called *errors*."
   ]
  },
  {
   "cell_type": "markdown",
   "id": "60e05cd8",
   "metadata": {},
   "source": [
    "## Syntax errors\n",
    "*Syntax errors* are when you write code that Python simply cannot understand, because it doesn't follow the rules of Python code. For example, the following code cell produces an `SyntaxError`, because Python expects something to follow the plus sign."
   ]
  },
  {
   "cell_type": "code",
   "execution_count": null,
   "id": "6d34e5e9",
   "metadata": {},
   "outputs": [],
   "source": [
    "a = 1 + "
   ]
  },
  {
   "cell_type": "markdown",
   "id": "ee45aa13",
   "metadata": {},
   "source": [
    "Syntax errors are detected before Python tries to run your code. You will probably need to fix a lot of syntax errors as you learn to code in Python, but thankfully Python is quite good at telling you where the mistake is."
   ]
  },
  {
   "cell_type": "markdown",
   "id": "a77adb12",
   "metadata": {},
   "source": [
    "### Exercises\n",
    "Each of the following code cells contains at least one syntax error; your task is to fix those errors so that the code runs."
   ]
  },
  {
   "cell_type": "code",
   "execution_count": null,
   "id": "dc12639c",
   "metadata": {},
   "outputs": [],
   "source": [
    "triangle_base = 3\n",
    "5 = triangle_height\n",
    "triangle_area = ((triangle_base * triangle_height) / 2"
   ]
  },
  {
   "cell_type": "code",
   "execution_count": null,
   "id": "0dbd4bb2",
   "metadata": {},
   "outputs": [],
   "source": [
    "a = 3 b = 2\n",
    " a + b"
   ]
  },
  {
   "cell_type": "markdown",
   "id": "f2390483",
   "metadata": {},
   "source": [
    "## Runtime Errors\n",
    "*Runtime errors* occur when the code seems to be valid, but for some reason Python cannot do what you told it to. In the following code cell, we intend to compute $a(3 + 12.4)$ for $a = 4$."
   ]
  },
  {
   "cell_type": "code",
   "execution_count": null,
   "id": "ff79661d",
   "metadata": {},
   "outputs": [],
   "source": [
    "a = 4\n",
    "a(3 + 12.4)"
   ]
  },
  {
   "cell_type": "markdown",
   "id": "1d072d62",
   "metadata": {},
   "source": [
    "This produces an error because Python thinks we are trying to call a function called `a` with the argument $3 + 12.4$, but `a` simply contains a number! It's not a syntax error, because `a(3 + 12.4)` is perfectly valid Python code if `a` happens to be the name of a function when that line is reached. Another example is the following, where we end up accidentally dividing by 0."
   ]
  },
  {
   "cell_type": "code",
   "execution_count": null,
   "id": "937eac18",
   "metadata": {},
   "outputs": [],
   "source": [
    "a = 3\n",
    "b = 4 / (3 - a)"
   ]
  },
  {
   "cell_type": "markdown",
   "id": "1b59224e",
   "metadata": {},
   "source": [
    "Until we start writing more complex pieces of code, you probably won't see much difference between syntax and runtime errors in practice."
   ]
  },
  {
   "cell_type": "markdown",
   "id": "493e4f77",
   "metadata": {
    "nbgrader": {
     "grade": false,
     "grade_id": "cell-10035b96e8e46f6f",
     "locked": true,
     "schema_version": 3,
     "solution": false,
     "task": false
    }
   },
   "source": [
    "### Exercises\n",
    "Click \"Restart\" in the \"Kernel\" menu above the notebook to reset Python back to its initial state. Now try computing `np.sin(0)` in the cell below. You should get an error message telling you that `name np is not defined`.\n",
    "\n",
    "This is what happens if you try to use a module before importing it. To fix the error, run the cell in which *numpy* is imported again (or just import it again below), and then run try to compute `np.sin(0)` again. This is a very common error to see, so it's worth remembering how to fix it!"
   ]
  },
  {
   "cell_type": "code",
   "execution_count": null,
   "id": "b75b29d1",
   "metadata": {},
   "outputs": [],
   "source": []
  },
  {
   "cell_type": "markdown",
   "id": "e739908d",
   "metadata": {},
   "source": [
    "Each of the following cells will cause at least one runtime error when run; your task is to fix them."
   ]
  },
  {
   "cell_type": "code",
   "execution_count": null,
   "id": "303f63a3",
   "metadata": {},
   "outputs": [],
   "source": [
    "subtotal = 13 + 7.6 + 12\n",
    "total_after_VAT = subtotal(1 + 0.2)"
   ]
  },
  {
   "cell_type": "code",
   "execution_count": null,
   "id": "2ce1b71a",
   "metadata": {},
   "outputs": [],
   "source": [
    "triangle_base = 3\n",
    "triangle_height = 5\n",
    "triangle_area = triangle_bass * triangle_height/2"
   ]
  },
  {
   "cell_type": "markdown",
   "id": "0a5f4001",
   "metadata": {},
   "source": [
    "## Semantic errors\n",
    "*Semantic errors* are when code runs, but it does not produce the results that you expect. This is usually the most annoying sort of error to debug, since Python cannot simply tell you where the mistake is. When trying to fix semantic errors, its important to remember that Python will always do exactly what you tell it to. The problem is almost always that you are not telling it to do what you think you are!\n",
    "\n",
    "For example, we can obtain the number of digits of a number $n$ by rounding down the base-10 logarithm of $n$ and adding 1. *Numpy* provides a `log` function, and a `floor` function for rounding down, so we might try the following."
   ]
  },
  {
   "cell_type": "code",
   "execution_count": null,
   "id": "d9184339",
   "metadata": {},
   "outputs": [],
   "source": [
    "n = 312\n",
    "number_of_digits = np.floor(np.log(n)) + 1\n",
    "number_of_digits"
   ]
  },
  {
   "cell_type": "markdown",
   "id": "997fd049",
   "metadata": {},
   "source": [
    "The output of the last cell doesn't seem right! What went wrong? If we check the [list](https://numpy.org/doc/stable/reference/routines.math.html#) of mathematical functions provided by `numpy` again, we notice that `log` computes the natural logarithm rather than the base-10 logarithm. The function we need is called `log10`."
   ]
  },
  {
   "cell_type": "code",
   "execution_count": null,
   "id": "f50decbb",
   "metadata": {},
   "outputs": [],
   "source": [
    "n = 312\n",
    "number_of_digits = np.floor(np.log10(n)) + 1\n",
    "number_of_digits"
   ]
  },
  {
   "cell_type": "markdown",
   "id": "6aad753b",
   "metadata": {},
   "source": [
    "One of your best methods of preventing semantics errors is to *document* your code. Documenting your code means writing a description of what it is supposed to achieve. It goes hand-in-hand with adding comments to your code. In Jupyter Notebooks, we usually document the code and/or provide an overview of how it works inside text cells like this one. The following text and code cells demonstrate this idea. One of the exercises will have you fix the code so that it agrees with the description."
   ]
  },
  {
   "cell_type": "markdown",
   "id": "271278e5",
   "metadata": {},
   "source": [
    "In the following cell, we create a turtle on screen, and have it draw an equilateral triangle."
   ]
  },
  {
   "cell_type": "code",
   "execution_count": null,
   "id": "99662cd0",
   "metadata": {},
   "outputs": [],
   "source": [
    "from mobilechelonian import Turtle\n",
    "terry = Turtle()   # create a turtle, and call him terry\n",
    "\n",
    "terry.forward(100) # move forward 100 steps to draw one side of the triangle\n",
    "terry.left(60)     # corner angle of an equilateral triangle is 60 degrees, so turn 60 degrees to the left\n",
    "terry.forward(100) \n",
    "terry.home()       # return to start to draw last side of triangle"
   ]
  },
  {
   "cell_type": "markdown",
   "id": "b758f947",
   "metadata": {},
   "source": [
    "**Note:** we would typically not include so much commentary in our code, since it can make the code harder to read. It is standard to restrict the in-code commentary to only explaining the key ideas and steps, or those that are likely to be confusing."
   ]
  },
  {
   "cell_type": "markdown",
   "id": "387c8e51",
   "metadata": {},
   "source": [
    "### Exercises\n",
    "Unfortunately the triangle that Terry drew wasn't equilateral, even though all of the commands I gave were valid Python. Can you find and fix the mistake in the previous code cell?"
   ]
  },
  {
   "cell_type": "markdown",
   "id": "2e54c064",
   "metadata": {},
   "source": [
    "I would like to know the value of $2^{10}$, but something is clearly going wrong when I try to calculate it. Please fix it for me."
   ]
  },
  {
   "cell_type": "code",
   "execution_count": null,
   "id": "57a23d9f",
   "metadata": {},
   "outputs": [],
   "source": [
    "x = 2 ^ 10\n",
    "np.log2(x)    # this should give me 10 if x is correct"
   ]
  },
  {
   "cell_type": "markdown",
   "id": "123d61cb",
   "metadata": {},
   "source": [
    "# Additional Exercises\n",
    "Copy the code above that draws an equilateral triangle, and modify it so that it draws a right-angled triangle where the other two angles are both $45^\\circ$. "
   ]
  },
  {
   "cell_type": "code",
   "execution_count": null,
   "id": "c2d26968",
   "metadata": {},
   "outputs": [],
   "source": []
  },
  {
   "cell_type": "markdown",
   "id": "370a5986",
   "metadata": {},
   "source": [
    "Extend the code below so that the values of `x` and `y` are switched. You should not directly assign the correct values to them (i.e. don't include a line like `y = 10`)."
   ]
  },
  {
   "cell_type": "code",
   "execution_count": null,
   "id": "5274b9de",
   "metadata": {},
   "outputs": [],
   "source": [
    "x = 10\n",
    "y = 100\n",
    "# your code to swap x and y here"
   ]
  },
  {
   "cell_type": "code",
   "execution_count": null,
   "id": "d8d08a90",
   "metadata": {},
   "outputs": [],
   "source": []
  }
 ],
 "metadata": {
  "kernelspec": {
   "display_name": "Python 3",
   "language": "python",
   "name": "python3"
  },
  "language_info": {
   "codemirror_mode": {
    "name": "ipython",
    "version": 3
   },
   "file_extension": ".py",
   "mimetype": "text/x-python",
   "name": "python",
   "nbconvert_exporter": "python",
   "pygments_lexer": "ipython3",
   "version": "3.8.8"
  }
 },
 "nbformat": 4,
 "nbformat_minor": 5
}
