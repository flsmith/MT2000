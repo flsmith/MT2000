{
 "cells": [
  {
   "cell_type": "markdown",
   "id": "7bf40e06",
   "metadata": {},
   "source": [
    "# Mathematical Computing using Python - Session 6\n"
   ]
  },
  {
   "cell_type": "markdown",
   "id": "3b0675dc",
   "metadata": {},
   "source": [
    "# Input and Types\n",
    "Up until this point, our programs have not relied on any input from outside sources. The most obvious outside source to get input from is a user of the program. The easiest way of doing this is using the `input` command. This takes a string `prompt` as an argument, displays the prompt, and halts execution of the program until the user enters input and hits return. As a simple example, here's a program that asks for a number from the user, and prints whether it is negative, zero, or positive.\n",
    "\n",
    "**Warning** if you run the following code cell, you won't be able to run any other cells until you enter some input and hit return at the prompt."
   ]
  },
  {
   "cell_type": "code",
   "execution_count": null,
   "id": "6f8015b2",
   "metadata": {},
   "outputs": [],
   "source": [
    "# Display a message explaining to the user what to do\n",
    "print(\"Please enter a number.\")\n",
    "# Get the input from the user - use int to turn it into a number\n",
    "x = int(input(\">\"))\n",
    "\n",
    "# Test the number's sign\n",
    "if x < 0:\n",
    "    print(\"Your number was negative.\")\n",
    "elif x == 0:\n",
    "    print(\"Your number was zero.\")\n",
    "else:\n",
    "    print(\"Your number was positive.\")"
   ]
  },
  {
   "cell_type": "markdown",
   "id": "d781f0c7",
   "metadata": {},
   "source": [
    "There are a few things to discuss in this example. Firstly, you can choose whatever string you want to display as a prompt, but the use of `>` is fairly standard and clear to the user. Secondly, we use `int(input(\">\"))` to obtain a number from the user. To explain why we do this, we need to take a brief diversion into *types*.\n",
    "\n",
    "## Types\n",
    "In Python, everything has a *type*. These types are used to determine what sort of behaviour objects have. For example, real numbers have type `int` or `float`:"
   ]
  },
  {
   "cell_type": "code",
   "execution_count": null,
   "id": "0ba61462",
   "metadata": {},
   "outputs": [],
   "source": [
    "type(-33)"
   ]
  },
  {
   "cell_type": "code",
   "execution_count": null,
   "id": "a1909c4f",
   "metadata": {},
   "outputs": [],
   "source": [
    "type(1.32)"
   ]
  },
  {
   "cell_type": "markdown",
   "id": "18d26fa7",
   "metadata": {},
   "source": [
    "Similarly, strings have type `str`."
   ]
  },
  {
   "cell_type": "code",
   "execution_count": null,
   "id": "9d8a49ee",
   "metadata": {},
   "outputs": [],
   "source": [
    "type(\"Hello\")"
   ]
  },
  {
   "cell_type": "markdown",
   "id": "3ce7ae08",
   "metadata": {},
   "source": [
    "Booleans (`True` and `False`) have type `bool`."
   ]
  },
  {
   "cell_type": "code",
   "execution_count": null,
   "id": "9d9aaa0b",
   "metadata": {},
   "outputs": [],
   "source": [
    "type(True)"
   ]
  },
  {
   "cell_type": "markdown",
   "id": "b8e79e61",
   "metadata": {},
   "source": [
    "And turtles have type `mobilechelonian.Turtle`."
   ]
  },
  {
   "cell_type": "code",
   "execution_count": null,
   "id": "729587af",
   "metadata": {},
   "outputs": [],
   "source": [
    "from mobilechelonian import Turtle\n",
    "terry = Turtle()\n",
    "type(terry)"
   ]
  },
  {
   "cell_type": "markdown",
   "id": "03a01750",
   "metadata": {},
   "source": [
    "Because it doesn't make sense to add turtles together, there is no `+` operation for things of type `mobilechelonian.Turtle`. Similarly, there is no `forward` method for `int`. This is what we mean when we say that the type of an object determines what sort of behaviour it has."
   ]
  },
  {
   "cell_type": "code",
   "execution_count": null,
   "id": "e80b20dd",
   "metadata": {},
   "outputs": [],
   "source": [
    "a = 12\n",
    "a.forward(10)"
   ]
  },
  {
   "cell_type": "markdown",
   "id": "ca55996a",
   "metadata": {},
   "source": [
    "There are many more types in Python, both built-in and in modules like *numpy*. But what do these types have to do with the line `int(input(\">\"))`?\n",
    "\n",
    "It turns out that the function `input` always returns a string. Try running the following cell and inputting a number:"
   ]
  },
  {
   "cell_type": "code",
   "execution_count": null,
   "id": "1e790727",
   "metadata": {},
   "outputs": [],
   "source": [
    "print(\"Please input a number.\")\n",
    "x = input(\">\")\n",
    "x"
   ]
  },
  {
   "cell_type": "markdown",
   "id": "14de26ce",
   "metadata": {},
   "source": [
    "Notice that `x` contains the string representing your number, rather than the number itself."
   ]
  },
  {
   "cell_type": "code",
   "execution_count": null,
   "id": "e1b557b8",
   "metadata": {},
   "outputs": [],
   "source": [
    "type(x)"
   ]
  },
  {
   "cell_type": "markdown",
   "id": "7e31938a",
   "metadata": {},
   "source": [
    "However, Python provides ways of converting between many different types. By writing `int(x)` we ask Python to try to convert whatever is in `x` (currently a string) into a number."
   ]
  },
  {
   "cell_type": "code",
   "execution_count": null,
   "id": "bd3d483c",
   "metadata": {},
   "outputs": [],
   "source": [
    "int(x)"
   ]
  },
  {
   "cell_type": "markdown",
   "id": "0c753204",
   "metadata": {},
   "source": [
    "### Exercises\n",
    "What happens if you try to convert a string which doesn't represent a number (like `\"apple\"`) to an integer?"
   ]
  },
  {
   "cell_type": "code",
   "execution_count": null,
   "id": "23b717f0",
   "metadata": {},
   "outputs": [],
   "source": []
  },
  {
   "cell_type": "markdown",
   "id": "6c8608ed",
   "metadata": {},
   "source": [
    "Try doing the same thing in reverse: create a variable containing a number, and convert it to a string.\n",
    "\n",
    "*Hint:* in general, you convert to a type called `a_type` by writing `a_type(thing_to_convert)`."
   ]
  },
  {
   "cell_type": "markdown",
   "id": "95b26913",
   "metadata": {},
   "source": [
    "Write a function `factorial` which has one parameter `n`, and returns $n!$. \n",
    "Also write a function `sum_lower_odds` which returns the sum of the odd numbers between 0 and $n$."
   ]
  },
  {
   "cell_type": "code",
   "execution_count": null,
   "id": "eebb0655",
   "metadata": {},
   "outputs": [],
   "source": []
  },
  {
   "cell_type": "markdown",
   "id": "2149c943",
   "metadata": {},
   "source": [
    "Write code which asks the user for a number $n$, and computes $n!$ and the sum of the odd numbers between $0$ and $n$."
   ]
  },
  {
   "cell_type": "code",
   "execution_count": null,
   "id": "06f723a2",
   "metadata": {},
   "outputs": [],
   "source": []
  },
  {
   "cell_type": "markdown",
   "id": "71d46ce6",
   "metadata": {},
   "source": [
    "# Additional Exercises\n",
    "These are the final exercises of the workshop, and will require you to use all of the main concepts we have talked about!"
   ]
  },
  {
   "cell_type": "markdown",
   "id": "cd12b0a5",
   "metadata": {},
   "source": [
    "## A rainy day\n",
    "In this exercise, we will analyse some rainfall data from a weather station close to St Andrews."
   ]
  },
  {
   "cell_type": "markdown",
   "id": "1ad8861d",
   "metadata": {},
   "source": [
    "The following cell reads in daily rainfall data for Strathkiness (near St Andrews), between August 1st 2020 and August 23rd 2021. This data is published by SEPA under the Open Government License v3.0; you can find the most recent rainfall data [here](https://www2.sepa.org.uk/rainfall/data/index/11368)."
   ]
  },
  {
   "cell_type": "code",
   "execution_count": null,
   "id": "c8cbc7d8",
   "metadata": {},
   "outputs": [],
   "source": [
    "# the data is contained in a .csv file, and we use the csv module to read it\n",
    "import csv\n",
    "with open('data/strathkiness-rainfall.csv', newline='') as csvfile:\n",
    "    reader = csv.reader(csvfile, delimiter=',')\n",
    "    next(reader) # skip the first entry (the headers)\n",
    "    rain_data = list(reader)  # convert the data to a list"
   ]
  },
  {
   "cell_type": "markdown",
   "id": "538d876b",
   "metadata": {},
   "source": [
    "The variable `rain_data` now contains a list of lists, where each inner list contains two strings representing a date/time, and the amount of rainfall on that day (in mm). Output `rain_data[0]` to see an example."
   ]
  },
  {
   "cell_type": "code",
   "execution_count": null,
   "id": "2f0ffda3",
   "metadata": {},
   "outputs": [],
   "source": []
  },
  {
   "cell_type": "markdown",
   "id": "51c8665a",
   "metadata": {},
   "source": [
    "Use a `for` loop to convert the rainfall numbers into floats. If you make a mistake and damage the data, you can reset it by running the cell which reads it in again."
   ]
  },
  {
   "cell_type": "code",
   "execution_count": null,
   "id": "3bb5c0da",
   "metadata": {},
   "outputs": [],
   "source": []
  },
  {
   "cell_type": "markdown",
   "id": "f17dbcfe",
   "metadata": {},
   "source": [
    "What was the total rainfall over the period? What was the mean rainfall?"
   ]
  },
  {
   "cell_type": "code",
   "execution_count": null,
   "id": "9b0a6d1b",
   "metadata": {},
   "outputs": [],
   "source": []
  },
  {
   "cell_type": "markdown",
   "id": "6eb45e8c",
   "metadata": {},
   "source": [
    "On what proportion of days in this period was there no rainfall?\n",
    "\n",
    "*Hint:* remember you can find the length of a list using `len`."
   ]
  },
  {
   "cell_type": "code",
   "execution_count": null,
   "id": "660bf857",
   "metadata": {},
   "outputs": [],
   "source": []
  },
  {
   "cell_type": "markdown",
   "id": "8a25dba1",
   "metadata": {},
   "source": [
    "On how many days was there more than 2cm of rainfall?"
   ]
  },
  {
   "cell_type": "code",
   "execution_count": null,
   "id": "926002b2",
   "metadata": {},
   "outputs": [],
   "source": []
  },
  {
   "cell_type": "markdown",
   "id": "a2711cfc",
   "metadata": {},
   "source": [
    "On what day did the most rainfall occur?"
   ]
  },
  {
   "cell_type": "code",
   "execution_count": null,
   "id": "c078c55d",
   "metadata": {},
   "outputs": [],
   "source": []
  },
  {
   "cell_type": "markdown",
   "id": "78702e95",
   "metadata": {},
   "source": [
    "Write a function `rainfall_in_period` which has two parameters `start` and `stop`. The function should return the total amount of rainfall from the day with index `start` to the day with index `stop` (which should not be included). For example, `rainfall_in_period(0, 10)` should return `20.0` (the sum of the first 10 days of rainfall) and `rainfall_in_period(10, 20)` should return `16.6`. "
   ]
  },
  {
   "cell_type": "code",
   "execution_count": null,
   "id": "2dcc5c5c",
   "metadata": {},
   "outputs": [],
   "source": []
  },
  {
   "cell_type": "markdown",
   "id": "9d41c07d",
   "metadata": {},
   "source": [
    "Find the maximum amount of rain that fell in a 7-day period. What date did that period start on?"
   ]
  },
  {
   "cell_type": "code",
   "execution_count": null,
   "id": "c3f9db84",
   "metadata": {},
   "outputs": [],
   "source": []
  },
  {
   "cell_type": "markdown",
   "id": "22d2f792",
   "metadata": {},
   "source": [
    "## Random turtles\n",
    "In this exercise, we have a turtle do a \"random walk\" on the screen."
   ]
  },
  {
   "cell_type": "markdown",
   "id": "c706f5b1",
   "metadata": {},
   "source": [
    "The rules of the random walk are simple: at each step, choose a random number between -90 and 90 to turn by, then pick a random number between 10 and 40 to move forward by. Repeat this until the turtle leaves a box around the centre, then stop.\n",
    "\n",
    "First, write a function `draw_bounding_box` which takes two parameters `turtle` and `margin`, and uses `turtle` to draws a square `margin` units from the edge of the area. Test your function by drawing margins of `20`, `40`, and `60` units.\n",
    "\n",
    "*Hint:* You might need to use the functions `turtle.setposition`, `turtle.penup`, and `turtle.pendown`. Recall that the turtle's area is a square of side-length 400 units with centre at (200, 200), and that coordinates are measured from the top-left corner."
   ]
  },
  {
   "cell_type": "code",
   "execution_count": null,
   "id": "3843de77",
   "metadata": {},
   "outputs": [],
   "source": []
  },
  {
   "cell_type": "markdown",
   "id": "7321c018",
   "metadata": {},
   "source": [
    "Write a function `random_step` which takes one parameter `turtle`, and performs one step of the random walk defined above (i.e. turn by -90 to 90 degrees then move `turtle` forward by 10 to 40 units). Test your function by having a turtle perform ten steps of the random walk.\n",
    "\n",
    "**Note:** you can choose randomly from an interval $[a,b]$ using the `randint` function in the `random` module; search for \"Python randint documentation\" to find out how it works."
   ]
  },
  {
   "cell_type": "code",
   "execution_count": null,
   "id": "8fdf727a",
   "metadata": {},
   "outputs": [],
   "source": []
  },
  {
   "cell_type": "markdown",
   "id": "cd27091b",
   "metadata": {},
   "source": [
    "Write a function `is_turtle_in_box` which takes two parameters `turtle` and `margin`, and returns `True` if the turtle is within the box defined by the `margin`, and `False` otherwise. Test your code with different margins and different positions for the turtle.\n",
    "\n",
    "**Note:** the turtle's $x$- and $y$-coordinates are stored in the variables `turtle.posX` and `turtle.posY`"
   ]
  },
  {
   "cell_type": "code",
   "execution_count": null,
   "id": "2be34292",
   "metadata": {},
   "outputs": [],
   "source": []
  },
  {
   "cell_type": "markdown",
   "id": "2d62ff3b",
   "metadata": {},
   "source": [
    "Set `margin = 40`, and draw a bounding box using this margin.\n",
    "Move the turtle back to the centre.\n",
    "\n",
    "Using a `while` loop and `is_turtle_in_box`, have a turtle randomly walk around the screen until it leaves the bounding box."
   ]
  },
  {
   "cell_type": "code",
   "execution_count": null,
   "id": "a74e55c0",
   "metadata": {},
   "outputs": [],
   "source": []
  },
  {
   "cell_type": "markdown",
   "id": "86fb6e19",
   "metadata": {},
   "source": [
    "Create a `list` called `colours` of five colour names from [this list](https://www.w3schools.com/colors/colors_names.asp). Have your turtle cycle through the colours in the list as they walk.\n",
    "\n",
    "*Hint:* use modular arithmetic."
   ]
  },
  {
   "cell_type": "markdown",
   "id": "6d7d3803",
   "metadata": {},
   "source": [
    "Carry out this process of random walks from the center of the area $10$ times. Record in a list `nr_steps` the number of steps required to leave the area each time."
   ]
  },
  {
   "cell_type": "code",
   "execution_count": null,
   "id": "6a123dfc",
   "metadata": {},
   "outputs": [],
   "source": []
  },
  {
   "cell_type": "markdown",
   "id": "fe87297d",
   "metadata": {},
   "source": [
    "What is the largest number of steps taken in the area? What is the smallest?\n",
    "\n",
    "*Hint:* look up the `min` and `max` functions."
   ]
  },
  {
   "cell_type": "code",
   "execution_count": null,
   "id": "aff383dd",
   "metadata": {},
   "outputs": [],
   "source": []
  }
 ],
 "metadata": {
  "kernelspec": {
   "display_name": "Python 3",
   "language": "python",
   "name": "python3"
  },
  "language_info": {
   "codemirror_mode": {
    "name": "ipython",
    "version": 3
   },
   "file_extension": ".py",
   "mimetype": "text/x-python",
   "name": "python",
   "nbconvert_exporter": "python",
   "pygments_lexer": "ipython3",
   "version": "3.8.8"
  }
 },
 "nbformat": 4,
 "nbformat_minor": 5
}
