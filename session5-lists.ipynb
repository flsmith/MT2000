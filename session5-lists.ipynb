{
 "cells": [
  {
   "cell_type": "markdown",
   "id": "7bf40e06",
   "metadata": {},
   "source": [
    "# Mathematical Computing using Python - Session 5\n"
   ]
  },
  {
   "cell_type": "markdown",
   "id": "a9861219",
   "metadata": {},
   "source": [
    "# Lists\n",
    "So far, we have seen very simple \"types\" of data in Python: integers, floating point numbers, and strings. A great deal of programming involves manipulating different combinations of these data types. In order to do so, we often store them in data *structures*. The simplest of these data structures is the `list`. A `list` is precisely what it claims to be: a sequence of objects in some order."
   ]
  },
  {
   "cell_type": "code",
   "execution_count": null,
   "id": "2eb4a1af",
   "metadata": {},
   "outputs": [],
   "source": [
    "my_first_list = [\"apple\", 3, \"banana\", 4.2]"
   ]
  },
  {
   "cell_type": "markdown",
   "id": "7944787d",
   "metadata": {},
   "source": [
    "The variable `my_first_list` now contains 4 objects: 2 strings, an integer, and a float. We can store *any* object in a list, including some things you might not necessarily think of as objects. For example, in Python functions are objects, so we can store functions in lists!"
   ]
  },
  {
   "cell_type": "code",
   "execution_count": null,
   "id": "597f8070",
   "metadata": {},
   "outputs": [],
   "source": [
    "import numpy as np\n",
    "my_function_list = [np.sin, np.cos, np.tan]"
   ]
  },
  {
   "cell_type": "markdown",
   "id": "d116401c",
   "metadata": {},
   "source": [
    "We can add things to the end of a list:"
   ]
  },
  {
   "cell_type": "code",
   "execution_count": null,
   "id": "feec98e8",
   "metadata": {},
   "outputs": [],
   "source": [
    "my_first_list.append(23)\n",
    "my_first_list"
   ]
  },
  {
   "cell_type": "markdown",
   "id": "66b2feb1",
   "metadata": {},
   "source": [
    "And we can remove things from a list:"
   ]
  },
  {
   "cell_type": "code",
   "execution_count": null,
   "id": "9a80e027",
   "metadata": {},
   "outputs": [],
   "source": [
    "my_first_list.remove(4.2)\n",
    "my_first_list"
   ]
  },
  {
   "cell_type": "markdown",
   "id": "c3a74f69",
   "metadata": {},
   "source": [
    "In order to access the elements of the list, we use square brackets:"
   ]
  },
  {
   "cell_type": "code",
   "execution_count": null,
   "id": "b863134b",
   "metadata": {},
   "outputs": [],
   "source": [
    "my_first_list[0]"
   ]
  },
  {
   "cell_type": "markdown",
   "id": "3c1c0dfd",
   "metadata": {},
   "source": [
    "Notice we start counting at 0!"
   ]
  },
  {
   "cell_type": "code",
   "execution_count": null,
   "id": "a16f9caa",
   "metadata": {},
   "outputs": [],
   "source": [
    "my_first_list[3]"
   ]
  },
  {
   "cell_type": "markdown",
   "id": "6f2f493e",
   "metadata": {},
   "source": [
    "We can also count from the end using negative numbers; this can be very convenient!"
   ]
  },
  {
   "cell_type": "code",
   "execution_count": null,
   "id": "3a2eb0ba",
   "metadata": {},
   "outputs": [],
   "source": [
    "my_first_list[-1]"
   ]
  },
  {
   "cell_type": "markdown",
   "id": "8d29e7bd",
   "metadata": {},
   "source": [
    "To check whether an element is in a list, you can use `in`:"
   ]
  },
  {
   "cell_type": "code",
   "execution_count": null,
   "id": "f0804918",
   "metadata": {},
   "outputs": [],
   "source": [
    "\"banana\" in my_first_list"
   ]
  },
  {
   "cell_type": "markdown",
   "id": "f0d2ba2d",
   "metadata": {},
   "source": [
    "To create an empty list, use `[]`:"
   ]
  },
  {
   "cell_type": "code",
   "execution_count": null,
   "id": "ddbaf324",
   "metadata": {},
   "outputs": [],
   "source": [
    "empty_list = []"
   ]
  },
  {
   "cell_type": "markdown",
   "id": "e2ea134d",
   "metadata": {},
   "source": [
    "You can get the length of a list using `len`:"
   ]
  },
  {
   "cell_type": "code",
   "execution_count": null,
   "id": "6875b0e5",
   "metadata": {},
   "outputs": [],
   "source": [
    "len(my_first_list)"
   ]
  },
  {
   "cell_type": "markdown",
   "id": "bd7f631f",
   "metadata": {},
   "source": [
    "We could use `len` to help us loop through a list:"
   ]
  },
  {
   "cell_type": "code",
   "execution_count": null,
   "id": "0a91c787",
   "metadata": {},
   "outputs": [],
   "source": [
    "for i in range(len(my_first_list)):\n",
    "    print(\"my_first_list element\", i, \":\", my_first_list[i])"
   ]
  },
  {
   "cell_type": "markdown",
   "id": "5632d002",
   "metadata": {},
   "source": [
    "However, Python provides a more elegant way of looping through a list; in general it has the form\n",
    "```\n",
    "for x in some_list:\n",
    "    loop body\n",
    "statements to run after loop\n",
    "```"
   ]
  },
  {
   "cell_type": "code",
   "execution_count": null,
   "id": "67365bb3",
   "metadata": {},
   "outputs": [],
   "source": [
    "L = []\n",
    "for x in my_first_list:\n",
    "    L.append(x * 3)  # this will multiply numbers by 3, and repeat strings 3 times\n",
    "L"
   ]
  },
  {
   "cell_type": "markdown",
   "id": "e2279959",
   "metadata": {},
   "source": [
    "### Exercises"
   ]
  },
  {
   "cell_type": "markdown",
   "id": "b691fad3",
   "metadata": {},
   "source": [
    "#### 5.1\n",
    "Write a function `draw_regular_polygons` which has a parameter `turtle` and a parameter `edge_numbers`, which should be a list of integers. The function should use the provided function `draw_regular_polygon` to draw a regular $n$-agon for every `n` in `edge_numbers`.\n",
    "For example, when you pass `[3, 5, 6]` to `draw_regular_polygons`, you should get something like the image below:\n",
    "\n",
    "<img src=\"img/list-polygons.png\" width=\"175\" alt=\"A triangle, pentagon, and hexagon drawn using a turtle, sharing a common bottom-left corner.\">"
   ]
  },
  {
   "cell_type": "code",
   "execution_count": null,
   "id": "06457c03",
   "metadata": {},
   "outputs": [],
   "source": [
    "from mobilechelonian import Turtle\n",
    "def draw_regular_polygon(turtle, n):\n",
    "    for i in range(n):\n",
    "        turtle.forward(70)\n",
    "        turtle.left(360/n)"
   ]
  },
  {
   "cell_type": "markdown",
   "id": "047b2568",
   "metadata": {},
   "source": [
    "#### 5.2\n",
    "Create a list, $L$, with the entries $3.2$, $-100$, $\\sqrt{\\pi}$ and the string `\"St Andrews\"`. Output the element of $L$ containing $\\sqrt{\\pi}$."
   ]
  },
  {
   "cell_type": "code",
   "execution_count": null,
   "id": "e2cd73ca",
   "metadata": {},
   "outputs": [],
   "source": []
  },
  {
   "cell_type": "markdown",
   "id": "9d8e7ef5",
   "metadata": {},
   "source": [
    "#### 5.3\n",
    "Make another list, $M$, containing $-3.2$, $100$, $-\\sqrt{\\pi}$, and `\"St Andrews\"`. \n",
    "Output the element of $M$ containing a string. "
   ]
  },
  {
   "cell_type": "code",
   "execution_count": null,
   "id": "48c52503",
   "metadata": {},
   "outputs": [],
   "source": []
  },
  {
   "cell_type": "markdown",
   "id": "18dda815",
   "metadata": {},
   "source": [
    "#### 5.4\n",
    "Output `L + M`.  What does `+` do to lists?"
   ]
  },
  {
   "cell_type": "code",
   "execution_count": null,
   "id": "d583b6d5",
   "metadata": {},
   "outputs": [],
   "source": []
  },
  {
   "cell_type": "markdown",
   "id": "368f7a8b",
   "metadata": {},
   "source": [
    "#### 5.5\n",
    "Using a `for` loop, create a list `square_numbers` of all the square numbers from $1$ to $20^2 = 400$.\n",
    "\n",
    "*Hint:* start with an empty list, and `append` the squares one-by-one."
   ]
  },
  {
   "cell_type": "code",
   "execution_count": null,
   "id": "1a97bc37",
   "metadata": {},
   "outputs": [],
   "source": []
  },
  {
   "cell_type": "markdown",
   "id": "d26b7c46",
   "metadata": {},
   "source": [
    "# Nested Lists\n",
    "One of the most important type of object we can store in a list is other lists.\n",
    "In the following example, we create a list containing 2 lists, each of length 2. We might use this to represent a $2\\times 2$ matrix, where each inner list represents a row."
   ]
  },
  {
   "cell_type": "code",
   "execution_count": null,
   "id": "5e95ef4e",
   "metadata": {},
   "outputs": [],
   "source": [
    "mat = [[1, 0], [-0.3, 4]]"
   ]
  },
  {
   "cell_type": "markdown",
   "id": "746bb2f4",
   "metadata": {},
   "source": [
    "In order to access the elements of the inner lists, simply use two sets of square brackets like so:"
   ]
  },
  {
   "cell_type": "code",
   "execution_count": null,
   "id": "a3902ab1",
   "metadata": {},
   "outputs": [],
   "source": [
    "# first row, second entry\n",
    "mat[0][1]"
   ]
  },
  {
   "cell_type": "markdown",
   "id": "8cd67ebc",
   "metadata": {},
   "source": [
    "We can even put a list inside itself! This is usually a recipe for trouble."
   ]
  },
  {
   "cell_type": "code",
   "execution_count": null,
   "id": "5c1eb218",
   "metadata": {},
   "outputs": [],
   "source": [
    "L = [1, 2, 3]\n",
    "L.append(L)\n",
    "L"
   ]
  },
  {
   "cell_type": "markdown",
   "id": "ac50694a",
   "metadata": {},
   "source": [
    "### Exercise 5.6\n",
    "Using the function `draw_regular_polygon` provided below, write a function `draw_regular_polygons` which takes a parameter `turtle` and a parameter `polygons`, where `polygon` should be a list of lists. Each of the inner lists should look like `[n, size, color]`. Your function should use the provided function to draw coloured polygons of the specified sizes and colours.\n",
    "\n",
    "For example, when you pass the list\n",
    "\n",
    "`[[3, 80, \"Red\"], [4, 100, \"Blue\"], [3, 50, \"DeepPink\"], [6, 80, \"DarkSalmon\"]]`\n",
    "\n",
    "you should obtain something like the following image; test your function using this list.\n",
    "\n",
    "<img src=\"img/list-coloured-polygons.png\" width=\"175\" alt=\"Two triangles, a square, and a hexagon, draw using a turtle, sharing a common bottom-left corner. One triangle is deep pink and one is red. The square is blue, and the hexagon is salmon. The pink triangle is contained in the red triangle, which has the same edge length as the hexagon. The square has the largest edge length.\">\n",
    "\n"
   ]
  },
  {
   "cell_type": "code",
   "execution_count": null,
   "id": "be81f7d3",
   "metadata": {},
   "outputs": [],
   "source": [
    "def draw_regular_polygon(turtle, n, size, color):\n",
    "    # record the old color so we can reset it after drawing\n",
    "    old_color = turtle.color\n",
    "    turtle.pencolor(color)\n",
    "    \n",
    "    # draw the polygon\n",
    "    for i in range(n):\n",
    "        turtle.forward(size)\n",
    "        turtle.left(360/n)\n",
    "    # reset the pen color\n",
    "    turtle.pencolor(old_color)\n",
    "    \n",
    "# your code here"
   ]
  },
  {
   "cell_type": "markdown",
   "id": "243b0bfa",
   "metadata": {},
   "source": [
    "# Arrays\n",
    "Lists are very \"general\" in the sense that they can contain objects of multiple different types. However, this generality is a trade-off against efficiency. For many applications, we instead use *arrays*. These are a central feature of *numpy*, and can only contain elements all of the same type (usually `int` or `float`). Arrays make operations with large amounts of numeric data very fast and are generally more efficient than lists.\n",
    "\n",
    "A one dimensional numeric array is simply a list of numbers and could be used, for example,\n",
    "to represent a vector. There are several ways to define a one dimensional array. Here are some basic\n",
    "examples:"
   ]
  },
  {
   "cell_type": "code",
   "execution_count": 2,
   "id": "6ed8bceb",
   "metadata": {},
   "outputs": [
    {
     "data": {
      "text/plain": [
       "array([ 1,  3,  2,  5, 10])"
      ]
     },
     "execution_count": 2,
     "metadata": {},
     "output_type": "execute_result"
    }
   ],
   "source": [
    "import numpy as np\n",
    "my_array = np.array([1, 3, 2, 5, 10])   # make an array from a list\n",
    "my_array"
   ]
  },
  {
   "cell_type": "markdown",
   "id": "2cdedef8",
   "metadata": {},
   "source": [
    "If you try and convert a list of mixed types then *numpy* does its best to convert it to a sensible array - but you may not get what you expect!"
   ]
  },
  {
   "cell_type": "code",
   "execution_count": null,
   "id": "76f4304f",
   "metadata": {},
   "outputs": [],
   "source": [
    "my_list = [1, 2, 45.3, \"hello\"]\n",
    "my_array2 = np.array(my_list)\n",
    "my_array2"
   ]
  },
  {
   "cell_type": "markdown",
   "id": "59949251",
   "metadata": {},
   "source": [
    "You can also create higher-dimensional arrays by converting lists of lists:"
   ]
  },
  {
   "cell_type": "code",
   "execution_count": null,
   "id": "24655363",
   "metadata": {},
   "outputs": [],
   "source": [
    "np.array([[1, 2], [3, 4]])"
   ]
  },
  {
   "cell_type": "markdown",
   "id": "12f0a980",
   "metadata": {},
   "source": [
    "When we are dealing with large arrays, it is impractical to type in each entry by hand. There are a number of helpful functions provided by *numpy* to create arrays with certain properties. To create an array of evenly-spaced values between a `start` and `stop` value, we can use the `arange` or `linspace` functions from *numpy*. \n",
    "\n",
    "With both functions we specify the start and stop values (like with `range`), but with `arange` we specify the spacing between the values, and with `linspace` we specify the number of points to evenly space between the endpoints."
   ]
  },
  {
   "cell_type": "code",
   "execution_count": null,
   "id": "e81c37c8",
   "metadata": {},
   "outputs": [],
   "source": [
    "np.arange(0.0, 4.2, 0.2)"
   ]
  },
  {
   "cell_type": "code",
   "execution_count": null,
   "id": "8547baa5",
   "metadata": {},
   "outputs": [],
   "source": [
    "np.linspace(0.0, 4.2, num = 10)"
   ]
  },
  {
   "cell_type": "markdown",
   "id": "9d75a8f6",
   "metadata": {},
   "source": [
    "Another common way to create arrays is by creating an array with all entries 0, then setting the entries to be the correct value. In the following example, we create a $3 \\times 4$ matrix $A$ with entries \n",
    "$$a_{i,j} = \\begin{cases}2i + j & i, j > 1 \\\\ 0 &\\text{otherwise.} \\end{cases}$$\n",
    "for $1 \\leq i \\leq 3$ and $1 \\leq j \\leq 4$.\n",
    "\n",
    "Notice that we index matrices from 1 in mathematics, but from 0 in programming - you have to be very careful with this, and it's best to clarify which you mean."
   ]
  },
  {
   "cell_type": "code",
   "execution_count": 5,
   "id": "dbf98d39",
   "metadata": {},
   "outputs": [
    {
     "data": {
      "text/plain": [
       "array([[ 0.,  0.,  0.,  0.],\n",
       "       [ 0.,  6.,  7.,  8.],\n",
       "       [ 0.,  8.,  9., 10.]])"
      ]
     },
     "execution_count": 5,
     "metadata": {},
     "output_type": "execute_result"
    }
   ],
   "source": [
    "dim1 = 3\n",
    "dim2 = 4\n",
    "# Create a 3x4 matrix of zeros; notice the argument is a pair (dim1, dim2)\n",
    "# which defines the \"shape\" of the array, which is why there is an extra pair of brackets.\n",
    "# These extra brackets are necessary!\n",
    "mat = np.zeros((dim1, dim2))\n",
    "\n",
    "# now set the entries\n",
    "for i in range(1, dim1):\n",
    "    for j in range(1, dim2):\n",
    "        # We use (i + 1) and (j + 1) to agree with the mathematical definition.\n",
    "        mat[i, j] = 2 * (i + 1) + (j + 1)\n",
    "        # Note we don't need multiple square brackets with numpy arrays.\n",
    "        # You could use mat[i][j] instead, but mat[i,j] is more efficient.\n",
    "\n",
    "# view mat\n",
    "mat"
   ]
  },
  {
   "cell_type": "markdown",
   "id": "f5d211ca",
   "metadata": {},
   "source": [
    "*Numpy* arrays are extremely powerful and we do not have time to discuss all (or even a small portion) of their features in this workshop. One of the most useful features is that many *numpy* functions can be applied to all elements of an array at once:"
   ]
  },
  {
   "cell_type": "code",
   "execution_count": null,
   "id": "85cafe44",
   "metadata": {},
   "outputs": [],
   "source": [
    "np.sin(mat)"
   ]
  },
  {
   "cell_type": "markdown",
   "id": "de76c2d7",
   "metadata": {},
   "source": [
    "Unlike `lists`, we can also do arithmetic with arrays:"
   ]
  },
  {
   "cell_type": "code",
   "execution_count": null,
   "id": "00fd5dea",
   "metadata": {},
   "outputs": [],
   "source": [
    "2 * mat + np.sin(mat)"
   ]
  },
  {
   "cell_type": "markdown",
   "id": "f0d6becf",
   "metadata": {},
   "source": [
    "### Exercises\n",
    "#### 5.6\n",
    "Create a *numpy* array representing the matrix $A = [a_{i,j}]$, where $a_{i,j} = i + j$, $1 \\leq i. j \\leq 3$."
   ]
  },
  {
   "cell_type": "code",
   "execution_count": null,
   "id": "43218603",
   "metadata": {},
   "outputs": [],
   "source": []
  },
  {
   "cell_type": "markdown",
   "id": "a71ee1ab",
   "metadata": {},
   "source": [
    "#### 5.7\n",
    "Given the matrix $B$ as defined below, compute $A + B$, $A - B$, and the matrix $[\\cos(a_{i,j})]$."
   ]
  },
  {
   "cell_type": "code",
   "execution_count": null,
   "id": "c2237e35",
   "metadata": {},
   "outputs": [],
   "source": [
    "B = np.array([[1, 3.2, 3], [0, 1.2, 0], [8, 1, 2.1]])"
   ]
  },
  {
   "cell_type": "markdown",
   "id": "c81da7fd",
   "metadata": {},
   "source": [
    "#### 5.8\n",
    "Use the `matmul` and `transpose` functions from *numpy* to verify the general fact that $(AB)^T = B^TA^T$.\n",
    "You can find examples of their usage by searching the internet for \"numpy matmul/transpose documentation\"."
   ]
  },
  {
   "cell_type": "code",
   "execution_count": null,
   "id": "c714b9a8",
   "metadata": {},
   "outputs": [],
   "source": []
  },
  {
   "cell_type": "markdown",
   "id": "94ad5274",
   "metadata": {},
   "source": [
    "#### 5.9\n",
    "Create a numpy array `X` containing 100 evenly-spaced points between -4 and 4. Set `Y = np.cos(X)`."
   ]
  },
  {
   "cell_type": "code",
   "execution_count": null,
   "id": "45788707",
   "metadata": {},
   "outputs": [],
   "source": []
  },
  {
   "cell_type": "markdown",
   "id": "c909c7f4",
   "metadata": {},
   "source": [
    "Now run the following cell to plot your first graph in Python."
   ]
  },
  {
   "cell_type": "code",
   "execution_count": null,
   "id": "a878c13a",
   "metadata": {},
   "outputs": [],
   "source": [
    "# plotting is often done through the matplotlib library\n",
    "import matplotlib.pyplot as plt\n",
    "# use X as the x-coordinates and Y as the corresponding y-coordinates\n",
    "plt.plot(X, Y)"
   ]
  },
  {
   "cell_type": "markdown",
   "id": "5a7542d5",
   "metadata": {},
   "source": [
    "# List slicing\n",
    "Given a list, it is often useful to be able to extract a sublist from it. One way of achieving this in Python is using *list slicing*. This \"cuts out\" a sublist of a given list. The notation for it is `list_to_slice[start:stop:step]`. We often leave out `step`, in which case consecutive elements will be selected.\n",
    "We can also leave out `start` or `stop` to mean \"start of the list\" or \"end of the list\", and we can index from the end using negative numbers. Don't be too concerned with remembering the details - just remember it's possible, then you can look up the details!"
   ]
  },
  {
   "cell_type": "code",
   "execution_count": null,
   "id": "a176b699",
   "metadata": {},
   "outputs": [],
   "source": [
    "my_list = [0, 1, 2, 3, 4, 5]\n",
    "my_list[0:2]"
   ]
  },
  {
   "cell_type": "code",
   "execution_count": null,
   "id": "b43d6976",
   "metadata": {},
   "outputs": [],
   "source": [
    "my_list[1:4]"
   ]
  },
  {
   "cell_type": "code",
   "execution_count": null,
   "id": "0db54fc0",
   "metadata": {},
   "outputs": [],
   "source": [
    "my_list[1:]"
   ]
  },
  {
   "cell_type": "code",
   "execution_count": null,
   "id": "451fc5f3",
   "metadata": {},
   "outputs": [],
   "source": [
    "my_list[:-2]"
   ]
  },
  {
   "cell_type": "code",
   "execution_count": null,
   "id": "78e02608",
   "metadata": {},
   "outputs": [],
   "source": [
    "my_list[0:3:2]"
   ]
  },
  {
   "cell_type": "markdown",
   "id": "830ba536",
   "metadata": {},
   "source": [
    "# Strings\n",
    "Strings behave much like lists of characters. You can slice strings and loop through the characters in them:"
   ]
  },
  {
   "cell_type": "code",
   "execution_count": null,
   "id": "07ae165a",
   "metadata": {},
   "outputs": [],
   "source": [
    "my_string = \"Hello World\"\n",
    "for character in my_string[6:]:\n",
    "    print(character)"
   ]
  },
  {
   "cell_type": "markdown",
   "id": "66d46c40",
   "metadata": {},
   "source": [
    "You can also access the characters using square brackets:"
   ]
  },
  {
   "cell_type": "code",
   "execution_count": null,
   "id": "09209d60",
   "metadata": {},
   "outputs": [],
   "source": [
    "\"Hello World\"[4]"
   ]
  },
  {
   "cell_type": "code",
   "execution_count": null,
   "id": "e4a55b40",
   "metadata": {},
   "outputs": [],
   "source": [
    "\"Hello World\"[-3]"
   ]
  },
  {
   "cell_type": "markdown",
   "id": "dc14609a",
   "metadata": {},
   "source": [
    "### Exercise 5.10\n",
    "\n",
    "Write a function `is_palindrome` which tests if a string `s` is a palindrome. Test your function on the strings:\n",
    "- \"aaa\"\n",
    "- \"kayak\"\n",
    "- \"hello\"\n",
    "- \"123 321\"\n",
    "- \"123123\"\n",
    "\n",
    "*Hint:* test if the first character is equal to the final character, second character is equal to the penultimate character, and so on."
   ]
  },
  {
   "cell_type": "markdown",
   "id": "b9fb0285",
   "metadata": {},
   "source": [
    "# Additional Exercises"
   ]
  },
  {
   "cell_type": "markdown",
   "id": "518082b3",
   "metadata": {},
   "source": [
    "#### 5.11\n",
    "Make an array `L` of numbers that starts at $-10.0$, ends at $10.0$, and where each entry\n",
    "is $0.5$ apart.\n",
    "\n",
    "What does `np.size(L)` give?  What is `L[20]`?  What is `L[40]`?"
   ]
  },
  {
   "cell_type": "code",
   "execution_count": null,
   "id": "01bc7647",
   "metadata": {},
   "outputs": [],
   "source": []
  },
  {
   "cell_type": "markdown",
   "id": "30f81d3a",
   "metadata": {},
   "source": [
    "#### 5.12\n",
    "Make an array `L` with entries $n/(n+1)$ for $n=1,\\ldots,20$.\n",
    "Output `L`, `L/2`, `5*L` and `L-1`."
   ]
  },
  {
   "cell_type": "code",
   "execution_count": null,
   "id": "1a9e2db7",
   "metadata": {},
   "outputs": [],
   "source": []
  },
  {
   "cell_type": "markdown",
   "id": "07016fc5",
   "metadata": {},
   "source": [
    "#### 5.13\n",
    "Slice the array `L` to obtain the first ten entries."
   ]
  },
  {
   "cell_type": "code",
   "execution_count": null,
   "id": "c318acaf",
   "metadata": {},
   "outputs": [],
   "source": []
  },
  {
   "cell_type": "markdown",
   "id": "55ba8763",
   "metadata": {},
   "source": [
    "#### 5.14\n",
    "Consider the following vectors, ${\\bf{r_1}} = (1,3,8)$ and ${\\bf{r_2}} = (2,6,8)$. \n",
    "Form two arrays in python to store ${\\bf{r_1}}$ and ${\\bf{r_2}}$.  Make sure the entries are floats (not integers).\n",
    "\n",
    "Use Python to:\n",
    "- Compute  ${\\bf{r_1}}\\cdot{\\bf{r_2}} $.\n",
    "- Determine $\\theta$ where $\\cos (\\theta) = ({\\bf{r_1}}\\cdot{\\bf{r_2}})/(\\mid{\\bf{r_1}}\\mid  \\mid{\\bf{r_2}}\\mid)$"
   ]
  },
  {
   "cell_type": "code",
   "execution_count": null,
   "id": "e88b6c3e",
   "metadata": {},
   "outputs": [],
   "source": []
  },
  {
   "cell_type": "markdown",
   "id": "fbce9bf5",
   "metadata": {},
   "source": [
    "#### 5.15\n",
    "\n",
    "To multiply an $m\\times n$ $A$ and $n \\times p$ matrix $B$, we use the formula\n",
    "\n",
    "$$(AB)_{i,j} = \\sum_{k = 1}^n A_{i,k} B_{k,j}$$\n",
    "\n",
    "where $1 \\leq i \\leq m$ and $1 \\leq j \\leq p$.\n",
    "\n",
    "Write a function `matrix_product` which takes two matrices `A` and `B`, represented as *numpy* arrays, and returns the product $AB$. You can assume that `A` and `B` can be multiplied (i.e. the number of columns of `A` is equal to the number of rows of `B`).\n",
    "\n",
    "Test your function on some small matrices; you can get the correct answers from the *numpy* function `matmul`."
   ]
  },
  {
   "cell_type": "code",
   "execution_count": null,
   "id": "8733bbf8",
   "metadata": {},
   "outputs": [],
   "source": []
  },
  {
   "cell_type": "markdown",
   "id": "7abcde7c",
   "metadata": {},
   "source": [
    "#### 5.16\n",
    "\n",
    "Hofstader's $Q$-sequence is defined by the  recurrence relation\n",
    "\n",
    "$$\n",
    "Q(n)= Q(n-Q(n-1)) + Q(n-Q(n-2)),\n",
    "$$\n",
    "\n",
    "where $Q(0)=Q(1)=1$. Starting with the list `[1, 1]` and using a suitable `for` loop, fill the list with rest of the first 300 values of the sequence. The first few values of $Q(n)$ are $1, 1, 2, 3, 3, 4, 5, 5, 6, 6, 6, 8, 8, 8, 10, 9, 10,\\dots$."
   ]
  },
  {
   "cell_type": "code",
   "execution_count": null,
   "id": "bfbef8c7",
   "metadata": {},
   "outputs": [],
   "source": []
  }
 ],
 "metadata": {
  "kernelspec": {
   "display_name": "Python 3",
   "language": "python",
   "name": "python3"
  },
  "language_info": {
   "codemirror_mode": {
    "name": "ipython",
    "version": 3
   },
   "file_extension": ".py",
   "mimetype": "text/x-python",
   "name": "python",
   "nbconvert_exporter": "python",
   "pygments_lexer": "ipython3",
   "version": "3.8.8"
  }
 },
 "nbformat": 4,
 "nbformat_minor": 5
}
