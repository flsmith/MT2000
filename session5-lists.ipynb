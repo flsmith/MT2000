{
 "cells": [
  {
   "cell_type": "markdown",
   "id": "7bf40e06",
   "metadata": {},
   "source": [
    "# Mathematical Computing using Python - Session 5\n"
   ]
  },
  {
   "cell_type": "markdown",
   "id": "8c16e6d7",
   "metadata": {},
   "source": [
    "# Lists\n",
    "So far, we have seen very simple \"types\" of data in Python: integers, floating point numbers, and strings. A great deal of programming involves manipulating different combinations of these data types. In order to do so, we often store them in data *structures*. The simplest of these data structures is the `list`. A `list` is precisely what it claims to be: a sequence of objects in some order."
   ]
  },
  {
   "cell_type": "code",
   "execution_count": null,
   "id": "68720410",
   "metadata": {},
   "outputs": [],
   "source": [
    "my_first_list = [\"apple\", 3, \"banana\", 4.2]"
   ]
  },
  {
   "cell_type": "markdown",
   "id": "d4295bfa",
   "metadata": {},
   "source": [
    "The variable `my_first_list` now contains 4 objects: 2 strings, an integer, and a float. We can store *any* object in a list, including some things you might not necessarily think of as objects. For example, in Python functions are objects, so we can store functions in lists!"
   ]
  },
  {
   "cell_type": "code",
   "execution_count": null,
   "id": "d2d02d33",
   "metadata": {},
   "outputs": [],
   "source": [
    "import numpy as np\n",
    "my_function_list = [np.sin, np.cos, np.tan]"
   ]
  },
  {
   "cell_type": "markdown",
   "id": "24182156",
   "metadata": {},
   "source": [
    "We can add things to the end of a list:"
   ]
  },
  {
   "cell_type": "code",
   "execution_count": null,
   "id": "f680c5a0",
   "metadata": {},
   "outputs": [],
   "source": [
    "my_first_list.append(23)\n",
    "my_first_list"
   ]
  },
  {
   "cell_type": "markdown",
   "id": "17ce0959",
   "metadata": {},
   "source": [
    "And we can remove things from a list:"
   ]
  },
  {
   "cell_type": "code",
   "execution_count": null,
   "id": "d12029c2",
   "metadata": {},
   "outputs": [],
   "source": [
    "my_first_list.remove(4.2)\n",
    "my_first_list"
   ]
  },
  {
   "cell_type": "markdown",
   "id": "4d054c3f",
   "metadata": {},
   "source": [
    "In order to access the elements of the list, we use square brackets:"
   ]
  },
  {
   "cell_type": "code",
   "execution_count": null,
   "id": "c580567d",
   "metadata": {},
   "outputs": [],
   "source": [
    "\"banana\" in my_first_list"
   ]
  },
  {
   "cell_type": "code",
   "execution_count": null,
   "id": "1dae871f",
   "metadata": {},
   "outputs": [],
   "source": [
    "my_first_list[0]"
   ]
  },
  {
   "cell_type": "markdown",
   "id": "f788692f",
   "metadata": {},
   "source": [
    "To check whether an element is in a list, you can use `in`:"
   ]
  },
  {
   "cell_type": "markdown",
   "id": "de05cf75",
   "metadata": {},
   "source": [
    "Notice we start counting at 0!"
   ]
  },
  {
   "cell_type": "code",
   "execution_count": null,
   "id": "e4bed3e7",
   "metadata": {},
   "outputs": [],
   "source": [
    "my_first_list[3]"
   ]
  },
  {
   "cell_type": "markdown",
   "id": "8d80a6ae",
   "metadata": {},
   "source": [
    "We can also count from the end using negative numbers; this can be very convenient!"
   ]
  },
  {
   "cell_type": "code",
   "execution_count": null,
   "id": "019ac0c4",
   "metadata": {},
   "outputs": [],
   "source": [
    "my_first_list[-1]"
   ]
  },
  {
   "cell_type": "markdown",
   "id": "0b244ce1",
   "metadata": {},
   "source": [
    "To create an empty list, use `[]`:"
   ]
  },
  {
   "cell_type": "code",
   "execution_count": null,
   "id": "73db2006",
   "metadata": {},
   "outputs": [],
   "source": [
    "empty_list = []"
   ]
  },
  {
   "cell_type": "markdown",
   "id": "28b07b0d",
   "metadata": {},
   "source": [
    "You can get the length of a list using `len`:"
   ]
  },
  {
   "cell_type": "code",
   "execution_count": null,
   "id": "a29c1898",
   "metadata": {},
   "outputs": [],
   "source": [
    "len(my_first_list)"
   ]
  },
  {
   "cell_type": "markdown",
   "id": "3563a7c2",
   "metadata": {},
   "source": [
    "We could use `len` to help us loop through a list:"
   ]
  },
  {
   "cell_type": "code",
   "execution_count": null,
   "id": "2a092ed3",
   "metadata": {},
   "outputs": [],
   "source": [
    "for i in range(len(my_first_list)):\n",
    "    print(\"my_first_list element\", i, \":\", my_first_list[i])"
   ]
  },
  {
   "cell_type": "markdown",
   "id": "1b91210c",
   "metadata": {},
   "source": [
    "However, Python provides a more elegant way of looping through a list; in general it has the form\n",
    "```\n",
    "for x in some_list:\n",
    "    loop body\n",
    "statements to run after loop\n",
    "```"
   ]
  },
  {
   "cell_type": "code",
   "execution_count": null,
   "id": "87a50ed7",
   "metadata": {},
   "outputs": [],
   "source": [
    "L = []\n",
    "for x in my_first_list:\n",
    "    L.append(x * 3)  # this will multiply numbers by 3, and repeat strings 3 times\n",
    "L"
   ]
  },
  {
   "cell_type": "markdown",
   "id": "dcd556c9",
   "metadata": {},
   "source": [
    "### Exercises\n",
    "Write a function `draw_regular_polygons` which has a parameter `turtle` and a parameter `edge_numbers`, which should be a list of intgers. The function should use the provided function `draw_regular_polygon` to draw a regular $n$-agon for every `n` in `edge_numbers`.\n",
    "For example, when you pass `[3, 5, 6]` to `draw_regular_polygons`, you should get something like the image below:\n",
    "\n",
    "<img src=\"img/list-polygons.png\" width=\"175\" alt=\"A triangle, pentagon, and hexagon drawn using a turtle, sharing a common bottom-left corner.\">"
   ]
  },
  {
   "cell_type": "code",
   "execution_count": null,
   "id": "86a382cc",
   "metadata": {},
   "outputs": [],
   "source": [
    "from mobilechelonian import Turtle\n",
    "def draw_regular_polygon(turtle, n):\n",
    "    for i in range(n):\n",
    "        turtle.forward(70)\n",
    "        turtle.left(360/n)"
   ]
  },
  {
   "cell_type": "markdown",
   "id": "c70fef7a",
   "metadata": {},
   "source": [
    "Create a list, $L$, with the entries $3.2$, $-100$, $\\sqrt{\\pi}$ and the string `\"St Andrews\"`. Output the element of $L$ containing $\\sqrt{\\pi}$."
   ]
  },
  {
   "cell_type": "code",
   "execution_count": null,
   "id": "7c5370aa",
   "metadata": {},
   "outputs": [],
   "source": []
  },
  {
   "cell_type": "markdown",
   "id": "37cf90ed",
   "metadata": {},
   "source": [
    "Make another list, $M$, containing $-3.2$, $100$, $-\\sqrt{\\pi}$, and `\"St Andrews\"`. \n",
    "Output the element of $M$ containing a string. "
   ]
  },
  {
   "cell_type": "code",
   "execution_count": null,
   "id": "a06c9dbf",
   "metadata": {},
   "outputs": [],
   "source": []
  },
  {
   "cell_type": "markdown",
   "id": "be3a8787",
   "metadata": {},
   "source": [
    "Output `L+M`.  What does `+` do to lists?"
   ]
  },
  {
   "cell_type": "code",
   "execution_count": null,
   "id": "a703d2ac",
   "metadata": {},
   "outputs": [],
   "source": []
  },
  {
   "cell_type": "markdown",
   "id": "a65b3156",
   "metadata": {},
   "source": [
    "Using a `for` loop, create a list `square_numbers` of all the square numbers from 1 to $20^2 = 400$.\n",
    "\n",
    "*Hint:* start with an empty list, and `append` the squares one-by-one."
   ]
  },
  {
   "cell_type": "code",
   "execution_count": null,
   "id": "b5e3f411",
   "metadata": {},
   "outputs": [],
   "source": []
  },
  {
   "cell_type": "markdown",
   "id": "6b637a30",
   "metadata": {},
   "source": [
    "# Nested Lists\n",
    "One of the most important type of object we can store in a list is other lists.\n",
    "In the following example, we create a list containing 2 lists, each of length 2. We might use this to represent a $2\\times 2$ matrix, where each inner list represents a row."
   ]
  },
  {
   "cell_type": "code",
   "execution_count": null,
   "id": "8785b5a2",
   "metadata": {},
   "outputs": [],
   "source": [
    "mat = [[1, 0], [-0.3, 4]]"
   ]
  },
  {
   "cell_type": "markdown",
   "id": "c5de6435",
   "metadata": {},
   "source": [
    "In order to access the elements of the inner lists, simply use two sets of square brackets like so:"
   ]
  },
  {
   "cell_type": "code",
   "execution_count": null,
   "id": "52071650",
   "metadata": {},
   "outputs": [],
   "source": [
    "# first row, second entry\n",
    "mat[0][1]"
   ]
  },
  {
   "cell_type": "markdown",
   "id": "fc1fdad2",
   "metadata": {},
   "source": [
    "We can even put a list inside itself! This is usually a recipe for trouble."
   ]
  },
  {
   "cell_type": "code",
   "execution_count": null,
   "id": "af1a3bd2",
   "metadata": {},
   "outputs": [],
   "source": [
    "L = [1, 2, 3]\n",
    "L.append(L)\n",
    "L"
   ]
  },
  {
   "cell_type": "markdown",
   "id": "922ebbd2",
   "metadata": {},
   "source": [
    "### Exercise\n",
    "Using the `draw_regular_polygon` provided below, write a function `draw_regular_polygons` which takes a parameter `turtle` and a parameter `polygons`, where `polygon` should be a list of lists. Each of the inner lists should look like `[n, size, color]`. Your function should use the provided function to draw coloured polygons of the specified sizes and colours.\n",
    "\n",
    "For example, when you pass the list\n",
    "\n",
    "`[[3, 80, \"Red\"], [4, 100, \"Blue\"], [3, 50, \"DeepPink\"], [6, 80, \"DarkSalmon\"]]`\n",
    "\n",
    "you should obtain something like the following image; test your function using this list.\n",
    "\n",
    "<img src=\"img/list-coloured-polygons.png\" width=\"175\" alt=\"Two triangles, a square, and a hexagon, draw using a turtle, sharing a common bottom-left corner. One triangle is deep pink and one is red. The square is blue, and the hexagon is salmon. The pink triangle is contained in the red triangle, which has the same edge length as the hexagon. The square has the largest edge length.\">\n",
    "\n"
   ]
  },
  {
   "cell_type": "code",
   "execution_count": null,
   "id": "778b28a1",
   "metadata": {},
   "outputs": [],
   "source": [
    "def draw_regular_polygon(turtle, n, size, color):\n",
    "    # record the old color so we can reset it after drawing\n",
    "    old_color = turtle.color\n",
    "    turtle.pencolor(color)\n",
    "    \n",
    "    # draw the polygon\n",
    "    for i in range(n):\n",
    "        turtle.forward(size)\n",
    "        turtle.left(360/n)\n",
    "    # reset the pen color\n",
    "    turtle.pencolor(old_color)\n",
    "    \n",
    "# your function here"
   ]
  },
  {
   "cell_type": "markdown",
   "id": "6123c8bd",
   "metadata": {},
   "source": [
    "# Arrays\n",
    "Lists are very \"general\" in the sense that they can contain objects of multiple different types. However, this generality is a trade-off against efficiency. For many applications, we instead use *arrays*. These are a central feature of *numpy*, and can only contain elements all of the same type (usually `int` or `float`). Arrays make operations with large amounts of numeric data very fast and are generally more efficient than lists.\n",
    "\n",
    "A one dimensional numeric array is simply a list of numbers and could be used, for example,\n",
    "to represent a vector. There are several ways to define a one dimensional array. Here are some basic\n",
    "examples:"
   ]
  },
  {
   "cell_type": "code",
   "execution_count": null,
   "id": "cec1ddeb",
   "metadata": {},
   "outputs": [],
   "source": [
    "import numpy as np\n",
    "my_array = np.array([1, 3, 2, 5, 10])   # make an array from a list\n",
    "my_array"
   ]
  },
  {
   "cell_type": "markdown",
   "id": "6822ac03",
   "metadata": {},
   "source": [
    "If you try and convert a list of mixed types then *numpy* does its best to convert it to a sensible array - but you may not get what you expect!"
   ]
  },
  {
   "cell_type": "code",
   "execution_count": null,
   "id": "55993b9c",
   "metadata": {},
   "outputs": [],
   "source": [
    "my_list = [1, 2, 45.3, \"hello\"]\n",
    "my_array2 = np.array(my_list)\n",
    "my_array2"
   ]
  },
  {
   "cell_type": "markdown",
   "id": "9c2a7653",
   "metadata": {},
   "source": [
    "You can also create higher-dimensional arrays by converting lists of lists:"
   ]
  },
  {
   "cell_type": "code",
   "execution_count": null,
   "id": "44a0346a",
   "metadata": {},
   "outputs": [],
   "source": [
    "np.array([[1, 2], [3, 4]])"
   ]
  },
  {
   "cell_type": "markdown",
   "id": "6e475faa",
   "metadata": {},
   "source": [
    "When we are dealing with large arrays, it is impractical to type in each entry by hand. There are a number of helpful functions provided by *numpy* to create arrays with certain properties. To create an array of evenly-spaced values between a `start` and `stop` value, we can use the `arange` or `linspace` functions from *numpy*. \n",
    "\n",
    "With both functions we specify the start and stop values (like with `range`), but with `arange` we specify the spacing between the values, and with `linspace` we specify the number of points to evenly space between the endpoints."
   ]
  },
  {
   "cell_type": "code",
   "execution_count": null,
   "id": "31c0be85",
   "metadata": {},
   "outputs": [],
   "source": [
    "np.arange(0.0, 4.2, 0.2)"
   ]
  },
  {
   "cell_type": "code",
   "execution_count": null,
   "id": "bf5cb8b5",
   "metadata": {},
   "outputs": [],
   "source": [
    "np.linspace(0.0, 4.2, num = 10)"
   ]
  },
  {
   "cell_type": "markdown",
   "id": "bb6dfa89",
   "metadata": {},
   "source": [
    "Another common way to create arrays is by creating an array with all entries 0, then setting the entries to be the correct value. In the following example, we create a $3 \\times 4$ matrix $A$ with entries \n",
    "$$a_{i,j} = \\begin{cases}2i + j & i, j > 1 \\\\ 0 &\\text{otherwise.} \\end{cases}$$\n",
    "Notice that we index matrices from 1 in mathematics, but from 0 in programming - you have to be very careful with this!"
   ]
  },
  {
   "cell_type": "code",
   "execution_count": null,
   "id": "2e2ab115",
   "metadata": {},
   "outputs": [],
   "source": [
    "dim1 = 3\n",
    "dim2 = 4\n",
    "# create a 3x4 matrix of zeros; notice the argument is a pair (2,3)\n",
    "# this is why there is an extra pair of brackets\n",
    "# this argument defines the \"shape\" of the array\n",
    "mat = np.zeros((dim1, dim2))\n",
    "\n",
    "# now set the entries\n",
    "for i in range(1, dim1):\n",
    "    for j in range(1, dim2):\n",
    "        # Note we don't need multiple square brackets with numpy arrays.\n",
    "        # You could use mat[i][j] instead, but mat[i,j] is more efficient.\n",
    "        mat[i, j] = 2 * i + j\n",
    "\n",
    "# view mat\n",
    "mat"
   ]
  },
  {
   "cell_type": "markdown",
   "id": "06b29c47",
   "metadata": {},
   "source": [
    "*Numpy* arrays are extremely powerful and we do not have time to discuss all (or even a small portion) of their features in this workshop. One of the most useful features is that many *numpy* functions can be applied to all elements of an array at once:"
   ]
  },
  {
   "cell_type": "code",
   "execution_count": null,
   "id": "7642ad12",
   "metadata": {},
   "outputs": [],
   "source": [
    "np.sin(mat)"
   ]
  },
  {
   "cell_type": "markdown",
   "id": "015b65af",
   "metadata": {},
   "source": [
    "Unlike `lists`, we can also do arithmetic with arrays:"
   ]
  },
  {
   "cell_type": "code",
   "execution_count": null,
   "id": "a306ed52",
   "metadata": {},
   "outputs": [],
   "source": [
    "2 * mat + np.sin(mat)"
   ]
  },
  {
   "cell_type": "markdown",
   "id": "f0c7bd74",
   "metadata": {},
   "source": [
    "### Exercises\n",
    "Create a *numpy* array representing the matrix $A = [a_{i,j}]$, where $a_{i,j} = i + j$."
   ]
  },
  {
   "cell_type": "code",
   "execution_count": null,
   "id": "2ed4bf0d",
   "metadata": {},
   "outputs": [],
   "source": []
  },
  {
   "cell_type": "markdown",
   "id": "c9c431c1",
   "metadata": {},
   "source": [
    "Given the matrix $B$ as defined below, compute $A + B$, $A - B$, and the matrix $[\\cos(a_{i,j})]$."
   ]
  },
  {
   "cell_type": "code",
   "execution_count": null,
   "id": "405bed9c",
   "metadata": {},
   "outputs": [],
   "source": [
    "B = np.array([[1, 3.2, 3], [0, 1.2, 0], [8, 1, 2.1]])"
   ]
  },
  {
   "cell_type": "markdown",
   "id": "1b9c9a63",
   "metadata": {},
   "source": [
    "Use the `matmul` and `transpose` functions from *numpy* to verify the general fact that $(AB)^T = B^TA^T$.\n",
    "You can find examples of their usage by searching the internet for \"numpy matmul/transpose documentation\"."
   ]
  },
  {
   "cell_type": "code",
   "execution_count": null,
   "id": "71f0c31a",
   "metadata": {},
   "outputs": [],
   "source": []
  },
  {
   "cell_type": "markdown",
   "id": "16555182",
   "metadata": {},
   "source": [
    "Create a numpy array `X` containing 100 evenly-spaced points between -4 and 4. Set `Y = np.cos(X)`."
   ]
  },
  {
   "cell_type": "code",
   "execution_count": null,
   "id": "d8e94c10",
   "metadata": {},
   "outputs": [],
   "source": []
  },
  {
   "cell_type": "markdown",
   "id": "093e4295",
   "metadata": {},
   "source": [
    "Now run the following cell to plot your first graph in Python."
   ]
  },
  {
   "cell_type": "code",
   "execution_count": null,
   "id": "0c64faa5",
   "metadata": {},
   "outputs": [],
   "source": [
    "# plotting is often done through the matplotlib library\n",
    "import matplotlib.pyplot as plt\n",
    "# use X as the x-coordinates and Y as the corresponding y-coordinates\n",
    "plt.plot(X, Y)"
   ]
  },
  {
   "cell_type": "markdown",
   "id": "ea28ef5e",
   "metadata": {},
   "source": [
    "# List slicing\n",
    "Given a list, it is often useful to be able to extract a sublist from it. One way of achieving this in Python is using *list slicing*. This \"cuts out\" a sublist of a given list. The notation for it is `list_to_slice[start:stop:step]`. We often leave out `step`, in which case consecutive elements will be selected.\n",
    "We can also leave out `start` or `stop` to mean \"start of the list\" or \"end of the list\", and we can index from the end using negative numbers. Don't be too concerned with remembering the details - just remember it's possible, then you can look up the details!"
   ]
  },
  {
   "cell_type": "code",
   "execution_count": null,
   "id": "b61c43ea",
   "metadata": {},
   "outputs": [],
   "source": [
    "my_list = [0, 1, 2, 3, 4, 5]\n",
    "my_list[0:2]"
   ]
  },
  {
   "cell_type": "code",
   "execution_count": null,
   "id": "f5b6d0ff",
   "metadata": {},
   "outputs": [],
   "source": [
    "my_list[1:4]"
   ]
  },
  {
   "cell_type": "code",
   "execution_count": null,
   "id": "0e8c79ce",
   "metadata": {},
   "outputs": [],
   "source": [
    "my_list[1:]"
   ]
  },
  {
   "cell_type": "code",
   "execution_count": null,
   "id": "f2f26137",
   "metadata": {},
   "outputs": [],
   "source": [
    "my_list[:-2]"
   ]
  },
  {
   "cell_type": "code",
   "execution_count": null,
   "id": "26498d98",
   "metadata": {},
   "outputs": [],
   "source": [
    "my_list[0:3:2]"
   ]
  },
  {
   "cell_type": "markdown",
   "id": "5d38b6db",
   "metadata": {},
   "source": [
    "# Strings\n",
    "Strings behave much like lists of characters. You can slice strings and loop through the characters in them:"
   ]
  },
  {
   "cell_type": "code",
   "execution_count": null,
   "id": "b861a520",
   "metadata": {},
   "outputs": [],
   "source": [
    "my_string = \"Hello World\"\n",
    "for character in my_string[6:]:\n",
    "    print(character)"
   ]
  },
  {
   "cell_type": "markdown",
   "id": "3c0cf7f1",
   "metadata": {},
   "source": [
    "You can also access the characters using square brackets:"
   ]
  },
  {
   "cell_type": "code",
   "execution_count": null,
   "id": "53a90239",
   "metadata": {},
   "outputs": [],
   "source": [
    "\"Hello World\"[4]"
   ]
  },
  {
   "cell_type": "code",
   "execution_count": null,
   "id": "0350f13e",
   "metadata": {},
   "outputs": [],
   "source": [
    "\"Hello World\"[-3]"
   ]
  },
  {
   "cell_type": "markdown",
   "id": "530840c4",
   "metadata": {},
   "source": [
    "### Exercise\n",
    "Write a function `is_palindrome` which tests if a string `s` is a palindrome.\n",
    "\n",
    "*Hint:* test if `s[i] = s[-i]` for all `i`."
   ]
  },
  {
   "cell_type": "markdown",
   "id": "789d7a6a",
   "metadata": {},
   "source": [
    "# Additional Exercises\n",
    "Make an array $L$ that starts at $-10.0$ and ends at $10.0$ and where each entry\n",
    "is $0.5$ apart.\n",
    "\n",
    "What does `size(L)` give?  What is `L[20]`?  What is `L[40]`?"
   ]
  },
  {
   "cell_type": "code",
   "execution_count": null,
   "id": "02ca439e",
   "metadata": {},
   "outputs": [],
   "source": []
  },
  {
   "cell_type": "markdown",
   "id": "33e47e35",
   "metadata": {},
   "source": [
    "Make an array `L` with entries $n/(n+1)$ for $n=1,\\ldots,20$.\n",
    "Output `L`, `L/2`, `5*L` and `L-1`."
   ]
  },
  {
   "cell_type": "code",
   "execution_count": null,
   "id": "a5bccd5a",
   "metadata": {},
   "outputs": [],
   "source": []
  },
  {
   "cell_type": "markdown",
   "id": "49fcf32b",
   "metadata": {},
   "source": [
    "Slice the array $L$ to obtain the first ten entries."
   ]
  },
  {
   "cell_type": "code",
   "execution_count": null,
   "id": "f4a8f744",
   "metadata": {},
   "outputs": [],
   "source": []
  },
  {
   "cell_type": "markdown",
   "id": "392db06f",
   "metadata": {},
   "source": [
    "Consider the following vectors, ${\\bf{r_1}} = (1,3,8)$ and ${\\bf{r_2}} = (2,6,8)$. \n",
    "Form two arrays in python to store ${\\bf{r_1}}$ and ${\\bf{r_2}}$.  Make sure the entries are floats (not integers).\n",
    "\n",
    "Use Python to:\n",
    "- Compute  ${\\bf{r_1}}\\cdot{\\bf{r_2}} $.\n",
    "- Determine $\\theta$ where $\\cos (\\theta) = ({\\bf{r_1}}\\cdot{\\bf{r_2}})/(\\mid{\\bf{r_1}}\\mid  \\mid{\\bf{r_2}}\\mid)$"
   ]
  },
  {
   "cell_type": "code",
   "execution_count": null,
   "id": "e820550d",
   "metadata": {},
   "outputs": [],
   "source": []
  },
  {
   "cell_type": "markdown",
   "id": "1799a212",
   "metadata": {},
   "source": [
    "To multiply an $m\\times n$ $A$ and $n \\times p$ matrix $B$, we use the formula\n",
    "\n",
    "$$(AB)_{i,j} = \\sum_{k = 1}^n A_{i,k} B_{k,j}$$\n",
    "\n",
    "where $1 \\leq i \\leq m$ and $1 \\leq j \\leq p$.\n",
    "\n",
    "Write a function `matrix_product` which takes two matrices `A` and `B`, represented as *numpy* arrays, and returns the product $AB$.\n",
    "\n",
    "Test your function on some small matrices; you can get the correct answers from the *numpy* function `matmul`."
   ]
  },
  {
   "cell_type": "code",
   "execution_count": null,
   "id": "65edbafa",
   "metadata": {},
   "outputs": [],
   "source": []
  },
  {
   "cell_type": "markdown",
   "id": "a72ff9e7",
   "metadata": {},
   "source": [
    "Hofstader's $Q$-sequence is defined by the  recurrence relation\n",
    "\n",
    "$$\n",
    "Q(n)= Q(n-Q(n-1)) + Q(n-Q(n-2)),\n",
    "$$\n",
    "\n",
    "where $Q(0)=Q(1)=1$. Starting with the list `[1, 1]` and using a suitable `for` loop, fill the list with rest of the first 300 values of the sequence. The first few values of $Q(n)$ are $1, 1, 2, 3, 3, 4, 5, 5, 6, 6, 6, 8, 8, 8, 10, 9, 10,\\dots$."
   ]
  },
  {
   "cell_type": "code",
   "execution_count": null,
   "id": "290e2673",
   "metadata": {},
   "outputs": [],
   "source": []
  }
 ],
 "metadata": {
  "kernelspec": {
   "display_name": "Python 3",
   "language": "python",
   "name": "python3"
  },
  "language_info": {
   "codemirror_mode": {
    "name": "ipython",
    "version": 3
   },
   "file_extension": ".py",
   "mimetype": "text/x-python",
   "name": "python",
   "nbconvert_exporter": "python",
   "pygments_lexer": "ipython3",
   "version": "3.8.8"
  }
 },
 "nbformat": 4,
 "nbformat_minor": 5
}
