{
 "cells": [
  {
   "cell_type": "markdown",
   "id": "7bf40e06",
   "metadata": {
    "heading_collapsed": true
   },
   "source": [
    "# Mathematical Computing using Python - Session 4\n"
   ]
  },
  {
   "cell_type": "markdown",
   "id": "42d406a2",
   "metadata": {},
   "source": [
    "# Conditions and basic `if` statements\n",
    "\n",
    "In the previous worksheets, we've seen two ways in which we can control how the lines of a program are executed  (which we sometimes call the *control flow* of the program): we can use `for` loops to repeat lines of code, and functions to separate lines of code into smaller blocks. There is only one more fundamental concept we need to manipulate the control flow. This is the ability to make decisions based on *conditions*.\n",
    "\n",
    "In standard English, when giving instructions it is often useful to make conditions. For example \"*If* the traffic light is red *then* stop\". This sort of condition is useful in programming too: conditions are the building \n",
    "blocks for decision making in a program. These decisions can change the control flow of the program and alter how it runs. The most basic form of this is the simple `if` statement, which has the following form:\n",
    "\n",
    "```\n",
    "if <condition>:\n",
    "    do something\n",
    "    do another thing\n",
    "next line in program, will be run regardless of condition\n",
    "```\n",
    "As always, the indentation is critical. The indented statements are the *body* of the `if` statement, and will only be executed if the condition holds.\n",
    "\n",
    "In mathematical computing, the conditions we are interested in are often relationships between numbers. For example, we can test whether `a` is equal to `b` using `a == b` (notice there are *two* `=` signs).\n",
    "\n",
    "In the following example, I congratulate myself for remembering the value of `cos(0)` correctly."
   ]
  },
  {
   "cell_type": "code",
   "execution_count": 4,
   "id": "75f0c2d0",
   "metadata": {},
   "outputs": [
    {
     "name": "stdout",
     "output_type": "stream",
     "text": [
      "Hurray!\n"
     ]
    }
   ],
   "source": [
    "import numpy as np\n",
    "remembered_value = 1\n",
    "if np.cos(0) == remembered_value:\n",
    "    print(\"Hurray!\")"
   ]
  },
  {
   "cell_type": "markdown",
   "id": "1d24f567",
   "metadata": {},
   "source": [
    "The condition `np.cos(0) == remembered_value` evaluates to one of the two *boolean* values `True` or `False`:"
   ]
  },
  {
   "cell_type": "code",
   "execution_count": 44,
   "id": "c3ec4848",
   "metadata": {},
   "outputs": [
    {
     "data": {
      "text/plain": [
       "True"
      ]
     },
     "execution_count": 44,
     "metadata": {},
     "output_type": "execute_result"
    }
   ],
   "source": [
    "np.cos(0) == 1"
   ]
  },
  {
   "cell_type": "code",
   "execution_count": 45,
   "id": "1813ec49",
   "metadata": {},
   "outputs": [
    {
     "data": {
      "text/plain": [
       "False"
      ]
     },
     "execution_count": 45,
     "metadata": {},
     "output_type": "execute_result"
    }
   ],
   "source": [
    "np.cos(0) == 2"
   ]
  },
  {
   "cell_type": "markdown",
   "id": "f8f3ebb4",
   "metadata": {},
   "source": [
    "Note that these are not the same thing as the strings `\"True\"` and `\"False\"`!"
   ]
  },
  {
   "cell_type": "code",
   "execution_count": 47,
   "id": "5c07a0e0",
   "metadata": {},
   "outputs": [
    {
     "data": {
      "text/plain": [
       "False"
      ]
     },
     "execution_count": 47,
     "metadata": {},
     "output_type": "execute_result"
    }
   ],
   "source": [
    "True == \"True\""
   ]
  },
  {
   "cell_type": "code",
   "execution_count": 48,
   "id": "633ed51c",
   "metadata": {},
   "outputs": [
    {
     "data": {
      "text/plain": [
       "False"
      ]
     },
     "execution_count": 48,
     "metadata": {},
     "output_type": "execute_result"
    }
   ],
   "source": [
    "False == \"False\""
   ]
  },
  {
   "cell_type": "markdown",
   "id": "ac19c74f",
   "metadata": {},
   "source": [
    "### Exercise\n",
    "Below is an implementation of the `draw_regular_polygon` function from a previous worksheet. Modify it so that it takes an additional parameter `fast`, which should be a boolean value `True` or `False`. If `fast` is `True` then set the turtle's speed to 10 before drawing the polygon. Test your function by drawing a triangle slowly and a square fast."
   ]
  },
  {
   "cell_type": "code",
   "execution_count": 2,
   "id": "e3c648db",
   "metadata": {},
   "outputs": [],
   "source": [
    "from mobilechelonian import Turtle\n",
    "def draw_regular_polygon(turt, n):\n",
    "    for i in range(n):\n",
    "        turt.forward(100)\n",
    "        turt.left(360/n)"
   ]
  },
  {
   "cell_type": "markdown",
   "id": "d1a692d1",
   "metadata": {},
   "source": [
    "It's bad practice for functions to have undeclared side-effects like leaving the turtle going fast. Modify your function so that it makes a stores the original speed of the turtle in a variable and sets the turtle back to that speed after drawing the polygon. You can access the speed of `turtle` via the variable `turtle.speedVar`.\n",
    "\n",
    "Test your modified function by creating a square quickly, then having your turtle turn $90^\\circ$ to the right and moving 50 steps forward."
   ]
  },
  {
   "cell_type": "code",
   "execution_count": null,
   "id": "5425aafd",
   "metadata": {},
   "outputs": [],
   "source": []
  },
  {
   "cell_type": "markdown",
   "id": "9296501b",
   "metadata": {},
   "source": [
    "# `If-else` statements\n",
    "\n",
    "It is very common in programming that we want the code to do one thing if a condition is true, and a different thing if it is false.\n",
    "In Python, we can achieve this using `if-else` statements, which have the following form:\n",
    "\n",
    "```\n",
    "if <condition>:\n",
    "    lines to run if the condition is true\n",
    "else:\n",
    "    lines to run if the condition is false\n",
    "lines to run regardless of condition\n",
    "```\n",
    "For example, suppose I want to check if I remember the value of $\\sinh(\\log(2))$, and if not I want to be told the correct value."
   ]
  },
  {
   "cell_type": "code",
   "execution_count": 88,
   "id": "033ad639",
   "metadata": {},
   "outputs": [
    {
     "name": "stdout",
     "output_type": "stream",
     "text": [
      "Sorry, the actual value of sinh(log(2)) is 0.75\n"
     ]
    }
   ],
   "source": [
    "remembered_value = 5/4\n",
    "if np.sinh(np.log(2)) == remembered_value:\n",
    "    print(\"Hurray!\")\n",
    "else:\n",
    "    print(\"Sorry, the actual value of sinh(log(2)) is\", np.sinh(np.log(2)))"
   ]
  },
  {
   "cell_type": "markdown",
   "id": "650a5ef0",
   "metadata": {},
   "source": [
    "### Exercise\n",
    "Write a Python function which represents the following mathematical function:\n",
    "$$f(x) = \\begin{cases}2x & x < 0 \\\\ x^2 & x \\geq 0. \\end{cases}$$\n",
    "Test your function for $x \\in \\{-3, 0, 1, 2\\}$."
   ]
  },
  {
   "cell_type": "code",
   "execution_count": null,
   "id": "427faf36",
   "metadata": {},
   "outputs": [],
   "source": []
  },
  {
   "cell_type": "markdown",
   "id": "7803ddbd",
   "metadata": {},
   "source": [
    "# Division and remainder\n",
    "If `m` and `n` are two numbers, you can obtain the remainder when dividing `m` by `n` by writing `m % n`."
   ]
  },
  {
   "cell_type": "code",
   "execution_count": 16,
   "id": "c89ad1d2",
   "metadata": {},
   "outputs": [
    {
     "data": {
      "text/plain": [
       "1"
      ]
     },
     "execution_count": 16,
     "metadata": {},
     "output_type": "execute_result"
    }
   ],
   "source": [
    "3 % 2"
   ]
  },
  {
   "cell_type": "code",
   "execution_count": 57,
   "id": "d1f79620",
   "metadata": {},
   "outputs": [
    {
     "data": {
      "text/plain": [
       "1.5000000000000018"
      ]
     },
     "execution_count": 57,
     "metadata": {},
     "output_type": "execute_result"
    }
   ],
   "source": [
    "22 % 4.1"
   ]
  },
  {
   "cell_type": "markdown",
   "id": "f7acb433",
   "metadata": {},
   "source": [
    "You can also obtain the quotient of `m` by `n` (i.e. how many times `m` divides `n` fully) by writing `m // n`. This is often called *integer division*."
   ]
  },
  {
   "cell_type": "code",
   "execution_count": 18,
   "id": "a892248f",
   "metadata": {},
   "outputs": [
    {
     "data": {
      "text/plain": [
       "1"
      ]
     },
     "execution_count": 18,
     "metadata": {},
     "output_type": "execute_result"
    }
   ],
   "source": [
    "3 // 2"
   ]
  },
  {
   "cell_type": "code",
   "execution_count": 59,
   "id": "f4abb20c",
   "metadata": {},
   "outputs": [
    {
     "data": {
      "text/plain": [
       "5.0"
      ]
     },
     "execution_count": 59,
     "metadata": {},
     "output_type": "execute_result"
    }
   ],
   "source": [
    "22 // 4.1"
   ]
  },
  {
   "cell_type": "markdown",
   "id": "7478aaa2",
   "metadata": {},
   "source": [
    "### Exercises\n",
    "Use the remainder operator `%` to determine whether 106413511478 is divisible by 1024892."
   ]
  },
  {
   "cell_type": "code",
   "execution_count": null,
   "id": "09e8fe68",
   "metadata": {},
   "outputs": [],
   "source": []
  },
  {
   "cell_type": "markdown",
   "id": "605030a3",
   "metadata": {},
   "source": [
    "Pick two colours from [this list](https://www.w3schools.com/colors/colors_names.asp). \n",
    "\n",
    "Write a function `draw_colourful_regular_polygon` which draws a polygon in one colour if `n` is even, and the other if `n` is odd. Your function should *call* the function `draw_regular_polygon`, not repeat the code in it! Test your function by drawing a triangle inside a square inside a pentagon. It should look something like the following:\n",
    "\n",
    "<img src=\"img/colourful-polygons.png\" width=\"175\" alt=\"A triangle, square, and pentagon drawn using a turtle, sharing a common bottom-left corner. The triangle and pentagon are orange and the square is violet.\">\n",
    "\n",
    "**Note:** you can set the colour of the turtle's pen by calling `<turtle>.pencolor(\"colour\")`, where `<turtle>` is replaced by the variable holding your turtle. Be careful with the spelling! Once you've set the pen colour, it will remain that colour until you change it again."
   ]
  },
  {
   "cell_type": "code",
   "execution_count": null,
   "id": "fae88afc",
   "metadata": {},
   "outputs": [],
   "source": []
  },
  {
   "cell_type": "markdown",
   "id": "71da9d93",
   "metadata": {},
   "source": [
    "An approximation to $\\pi$ using Taylor series can be obtained through the following formula:\n",
    "$$     \\tan^{-1}(1.0) = \\frac{\\pi}{4}= 1-\\frac{1}{3}+\\frac{1}{5}-\\frac{1}{7} + ..... $$\n",
    "Use a `for` loop to sum up the first 500 terms, where within the `for` loop  an\n",
    "`if` statement is used to determine whether to add or subtract the next term.\n",
    "Test the approximation against $\\frac{\\pi}{4}$.\n",
    "\n",
    "(Hint: whether you should add or subtract depends on if you are adding an even or odd-numbered term)"
   ]
  },
  {
   "cell_type": "code",
   "execution_count": null,
   "id": "f8402e43",
   "metadata": {},
   "outputs": [],
   "source": []
  },
  {
   "cell_type": "markdown",
   "id": "dbcd1f20",
   "metadata": {},
   "source": [
    "# `Elif` statements\n",
    "\n",
    "We often need our programs to choose between more than two options. Suppose we have a number $n$ and we want to compute\n",
    "$$x = \\begin{cases}n^2 & \\text{$2$ divides $n$} \\\\ n^3 & \\text{$2$ divides $n$ but $3$ does not} \\\\ n & \\text{otherwise.} \\end{cases}$$\n",
    "In order to do so, we could nest `if-else` statements like so:"
   ]
  },
  {
   "cell_type": "code",
   "execution_count": 66,
   "id": "a3357e9d",
   "metadata": {},
   "outputs": [
    {
     "data": {
      "text/plain": [
       "27"
      ]
     },
     "execution_count": 66,
     "metadata": {},
     "output_type": "execute_result"
    }
   ],
   "source": [
    "n = 3\n",
    "if n % 2 == 0:\n",
    "    x = n ** 2\n",
    "else:\n",
    "    if n % 3 == 0:\n",
    "        x = n ** 3\n",
    "    else:\n",
    "        x = n\n",
    "x"
   ]
  },
  {
   "cell_type": "markdown",
   "id": "cd62e31f",
   "metadata": {},
   "source": [
    "There are other ways of nesting the `if-else` statements to achieve the same result. However, nested conditionals are often *extremely* confusing and are a very common source of bugs in code. An alternative is the `elif` statement. This is used inside an `if` or `if-else` statement, and has the following general form:\n",
    "\n",
    "```\n",
    "if <condition 1>:\n",
    "    thing to do if condition 1 holds\n",
    "elif <condition 2>:\n",
    "    thing to do if 1 does not hold but 2 does\n",
    "elif <condition 3>:\n",
    "    thing to do if 1 and 2 do not hold but 3 does\n",
    "...\n",
    "else:\n",
    "    thing to do if none of the conditions hold\n",
    "```"
   ]
  },
  {
   "cell_type": "markdown",
   "id": "9ac043b5",
   "metadata": {},
   "source": [
    "You can have as many `elif`s as you want, and you don't have to include the `else` statement. Here's what the code above would look like using `elif`:"
   ]
  },
  {
   "cell_type": "code",
   "execution_count": 67,
   "id": "254122ac",
   "metadata": {},
   "outputs": [
    {
     "data": {
      "text/plain": [
       "27"
      ]
     },
     "execution_count": 67,
     "metadata": {},
     "output_type": "execute_result"
    }
   ],
   "source": [
    "n = 3\n",
    "if n % 2 == 0:\n",
    "    x = n ** 2\n",
    "elif n % 3 == 0:\n",
    "    x = n ** 3\n",
    "else:\n",
    "    x = n\n",
    "x"
   ]
  },
  {
   "cell_type": "markdown",
   "id": "ca2d5fbb",
   "metadata": {},
   "source": [
    "Modify your `draw_colourful_regular_polygon` function so that it chooses between 3 colours using the remainder on dividing `n` by 3. Test it by drawing a triangle, square, pentagon, and hexagon. It should look something like the image below:\n",
    "\n",
    "\n",
    "<img src=\"img/more-colourful-polygons.png\" width=\"175\" alt=\"A triangle, square, pentagon, and hexagon drawn using a turtle, sharing a common bottom-left corner. The triangle and pentagon are pink, the square is salmon, and pentagon is green.\">"
   ]
  },
  {
   "cell_type": "code",
   "execution_count": null,
   "id": "56b24d35",
   "metadata": {},
   "outputs": [],
   "source": []
  },
  {
   "cell_type": "markdown",
   "id": "d88aba24",
   "metadata": {},
   "source": [
    "# Relational and logical operators\n",
    "We've already seen that you can use `==` to test equality and `<` or `>` to test \"less than\" or \"greater than\". These are all examples of *relational operators*. There are several more relational operators available in Python.\n",
    "\n",
    "\n",
    "| Operator    | Description                            |\n",
    "| :---------- | ---------------------------------------|\n",
    "| `<`, `<=`   | less than, less than or equal to       |\n",
    "| `>`, `>=`   | greater than, greater than or equal to |\n",
    "| `==`        | equal to |\n",
    "| `!=`        | not equal to |\n",
    "\n",
    "We often need to combine relational operators to form more complex conditions. For example, we may wish to test if a number is divisible by 13 *and* is positive. Python allows us to combine together conditions in this way:"
   ]
  },
  {
   "cell_type": "code",
   "execution_count": 73,
   "id": "665ac1e0",
   "metadata": {},
   "outputs": [
    {
     "data": {
      "text/plain": [
       "True"
      ]
     },
     "execution_count": 73,
     "metadata": {},
     "output_type": "execute_result"
    }
   ],
   "source": [
    "n = 52\n",
    "n % 13 == 0 and n > 0"
   ]
  },
  {
   "cell_type": "markdown",
   "id": "de77d8eb",
   "metadata": {},
   "source": [
    "There are also three *logical operators* offered by Python:\n",
    "\n",
    "| Operator    | Description                            |\n",
    "| :---------- | ---------------------------------------|\n",
    "| `and`       | `True` if both sides evaluate to `True`|\n",
    "| `or`        | `True` if **at least** one side evaluates to `True` |\n",
    "| `not`       | the opposite of whatever follows it |\n",
    "\n",
    "Here are some examples of how they work:"
   ]
  },
  {
   "cell_type": "code",
   "execution_count": 75,
   "id": "461d87ad",
   "metadata": {},
   "outputs": [
    {
     "data": {
      "text/plain": [
       "False"
      ]
     },
     "execution_count": 75,
     "metadata": {},
     "output_type": "execute_result"
    }
   ],
   "source": [
    "n = 53\n",
    "n % 13 == 0 and n > 0"
   ]
  },
  {
   "cell_type": "code",
   "execution_count": 86,
   "id": "8a87ff8d",
   "metadata": {},
   "outputs": [
    {
     "data": {
      "text/plain": [
       "True"
      ]
     },
     "execution_count": 86,
     "metadata": {},
     "output_type": "execute_result"
    }
   ],
   "source": [
    "n = 53\n",
    "n % 13 == 0 or n > 0"
   ]
  },
  {
   "cell_type": "code",
   "execution_count": 84,
   "id": "8b803de1",
   "metadata": {},
   "outputs": [
    {
     "data": {
      "text/plain": [
       "True"
      ]
     },
     "execution_count": 84,
     "metadata": {},
     "output_type": "execute_result"
    }
   ],
   "source": [
    "n = -3\n",
    "n % 3 == 0 or n <= 0"
   ]
  },
  {
   "cell_type": "code",
   "execution_count": 85,
   "id": "ad1eab82",
   "metadata": {},
   "outputs": [
    {
     "data": {
      "text/plain": [
       "False"
      ]
     },
     "execution_count": 85,
     "metadata": {},
     "output_type": "execute_result"
    }
   ],
   "source": [
    "n = -3\n",
    "n % 3 == 1 or n >= 0"
   ]
  },
  {
   "cell_type": "code",
   "execution_count": 80,
   "id": "7d080e7e",
   "metadata": {},
   "outputs": [
    {
     "data": {
      "text/plain": [
       "True"
      ]
     },
     "execution_count": 80,
     "metadata": {},
     "output_type": "execute_result"
    }
   ],
   "source": [
    "n = 13\n",
    "(n % 5 != 0) and (n >= 10)"
   ]
  },
  {
   "cell_type": "code",
   "execution_count": 87,
   "id": "b7fdb1ee",
   "metadata": {},
   "outputs": [
    {
     "data": {
      "text/plain": [
       "True"
      ]
     },
     "execution_count": 87,
     "metadata": {},
     "output_type": "execute_result"
    }
   ],
   "source": [
    "n = 13\n",
    "not (n % 5 == 0 and n < 13)"
   ]
  },
  {
   "cell_type": "markdown",
   "id": "8757adcc",
   "metadata": {},
   "source": [
    "As shown in the examples, you can use brackets to make the meaning of logical expressions clear. There is an order of precedence for relational and logical operators, but it is **always better** to use brackets when dealing with a complex expression, so most people do not memorise the order."
   ]
  },
  {
   "cell_type": "markdown",
   "id": "1ce48afa",
   "metadata": {},
   "source": [
    "### Exercises\n",
    "Write a function called `multiples_3_sum` which has a single parameter `n` and returns the sum of the positive integers less than `n` which are divisible by 3. For example, `multiples_3_sum(20)` should be $3 + 6 + 9 + 12 + 15 + 18 = 63$."
   ]
  },
  {
   "cell_type": "code",
   "execution_count": null,
   "id": "cc08c261",
   "metadata": {},
   "outputs": [],
   "source": []
  },
  {
   "cell_type": "markdown",
   "id": "f6576901",
   "metadata": {},
   "source": [
    "Write a function called `multiples_3_5_sum` which has a single parameter `n`, and computes the sum of the positive numbers less than `n` which are divisible by 3 or 5 (or both). For example, `multiples_3_5_sum(20)` should be $3 + 5 + 6 + 9 + 10 + 12 + 15 + 18 = 78$.\n",
    "\n",
    "Find `multiples_3_5_sum(1000)`.\n",
    "\n",
    "**Note**: This is the first of an interesting set of problems in Project Euler. They are specifically\n",
    "designed with the purpose of teaching mathematical computing. You can find them listed [here]( https://projecteuler.net/problems), and they are a very valuable resource!"
   ]
  },
  {
   "cell_type": "code",
   "execution_count": null,
   "id": "3b259108",
   "metadata": {},
   "outputs": [],
   "source": []
  },
  {
   "cell_type": "markdown",
   "id": "59833152",
   "metadata": {},
   "source": [
    "# More on `return` statements\n",
    "When writing functions which contain `return` statements, the key thing to remember is that as soon as a `return` statement is reached, the function returns the given value **and stops running**. This is demonstrated by the following example, which returns the smallest (larger than 1) factor of a given number."
   ]
  },
  {
   "cell_type": "code",
   "execution_count": 32,
   "id": "7a145cb1",
   "metadata": {},
   "outputs": [
    {
     "data": {
      "text/plain": [
       "3"
      ]
     },
     "execution_count": 32,
     "metadata": {},
     "output_type": "execute_result"
    }
   ],
   "source": [
    "def find_smallest_factor(n):\n",
    "    # go through the values 2 up to n in order, until we find a factor\n",
    "    for i in range(2, n + 1):\n",
    "        if n % i == 0:\n",
    "            return i\n",
    "find_smallest_factor(15)"
   ]
  },
  {
   "cell_type": "markdown",
   "id": "f15267c1",
   "metadata": {},
   "source": [
    "When writing functions, we are not limited to a single `return` statement inside a function: we can have as many as we want. In the following example, we use this in combination with the fact that return statements exit the function to test if a number is prime. Make you sure understand this example!"
   ]
  },
  {
   "cell_type": "code",
   "execution_count": 33,
   "id": "29183362",
   "metadata": {},
   "outputs": [
    {
     "data": {
      "text/plain": [
       "True"
      ]
     },
     "execution_count": 33,
     "metadata": {},
     "output_type": "execute_result"
    }
   ],
   "source": [
    "import math\n",
    "def is_prime(n):\n",
    "    # check whether the number has any factors\n",
    "    for i in range(2, n):\n",
    "        if n % i == 0:\n",
    "            return False\n",
    "\n",
    "    # if we get to this point, we haven't found any factors\n",
    "    # because otherwise we would have returned,\n",
    "    # so n must be prime\n",
    "    return True\n",
    "is_prime(17)"
   ]
  },
  {
   "cell_type": "markdown",
   "id": "0d232865",
   "metadata": {},
   "source": [
    "# While loops\n",
    "`For` loops are a very valuable construct for repeating something when you already know how many times you will need to repeat (even if that is determined by some other variable). However, we often wish to repeat until a condition is no longer satisfied. For example, we might summarise the process of debugging as \"while there are still bugs in the program, fix a bug!\"\n",
    "\n",
    "Python offers the `while` loop for this purpose. It has the following form:\n",
    "```\n",
    "while <condition>:\n",
    "    things to do while the condition is True\n",
    "```\n",
    "Python will first evaluate the condition. If it is `True`, then the loop body will be run. The condition will then be checked again, and if it is `True` the loop body will be run again. This continues until the condition evaluates to `False`.\n",
    "Here's an example:"
   ]
  },
  {
   "cell_type": "code",
   "execution_count": 95,
   "id": "6b527a9b",
   "metadata": {},
   "outputs": [
    {
     "name": "stdout",
     "output_type": "stream",
     "text": [
      "12\n",
      "6.0\n",
      "3.0\n",
      "1.5\n"
     ]
    }
   ],
   "source": [
    "x = 12\n",
    "while x > 1:\n",
    "    print(x)\n",
    "    x = x/2"
   ]
  },
  {
   "cell_type": "markdown",
   "id": "a523bed6",
   "metadata": {},
   "source": [
    "Note that the condition isn't checked *inside* the loop body, so Python won't break the loop halfway through the loop body if the condition becomes `False`. Because of this, if we rearranged the statements in the loop body, we would get a different final number printed:"
   ]
  },
  {
   "cell_type": "code",
   "execution_count": 94,
   "id": "fbe365ce",
   "metadata": {},
   "outputs": [
    {
     "name": "stdout",
     "output_type": "stream",
     "text": [
      "6.0\n",
      "3.0\n",
      "1.5\n",
      "0.75\n"
     ]
    }
   ],
   "source": [
    "x = 12\n",
    "while x > 1:\n",
    "    x = x/2\n",
    "    print(x)"
   ]
  },
  {
   "cell_type": "markdown",
   "id": "c36f8257",
   "metadata": {},
   "source": [
    "In the example below, we have a turtle draw a spiral from the centre until it reaches a boundary 150 units away from the centre."
   ]
  },
  {
   "cell_type": "code",
   "execution_count": 11,
   "id": "b38948db",
   "metadata": {},
   "outputs": [
    {
     "data": {
      "application/vnd.jupyter.widget-view+json": {
       "model_id": "fbdae15b9a6d4481927c3a1e508770c6",
       "version_major": 2,
       "version_minor": 0
      },
      "text/plain": [
       "Turtle()"
      ]
     },
     "metadata": {},
     "output_type": "display_data"
    }
   ],
   "source": [
    "import numpy as np\n",
    "# the centre coordinate is (200, 200)\n",
    "centre = 200\n",
    "terry = Turtle()\n",
    "terry.speed(10)\n",
    "i = 0\n",
    "# loop until terry is 150 away from the centre in the x or y direction\n",
    "while (np.abs(centre - terry.posX) < 150) and (np.abs(centre - terry.posY) < 150):\n",
    "    i = i + 1\n",
    "    terry.forward(5)\n",
    "    # the angle terry turns needs to get smaller as he goes\n",
    "    terry.left(360/i)"
   ]
  },
  {
   "cell_type": "markdown",
   "id": "645ab5e0",
   "metadata": {},
   "source": [
    "## Infinite loops\n",
    "There is a danger lurking in `while` loops: what happens if the condition `never` becomes `False`? Python will simply keep running the loop body forever. This is called an *infinite loop*, and is one of the common causes of programs freezing or crashing. If you run into an infinite loop (or simply a loop which is taking too long to terminate), you can stop Python executing your code by clicking the \"stop\" button in the menu beside the \"Run\" button.\n",
    "\n",
    "Whenever you write a `while` loop, you should consider how you know it will eventually finish, i.e. how you know that the condition will eventually be false. This guarantee cannot be worked out by Python - it is up to you as the programmer!\n",
    "\n",
    "There are two common alternatives used to break out of while loops. The first is the `break` statement. When this is encountered in a loop, Python will immediately break out of the loop and go to the next line in the code. Note that if you have nested loops, `break` will only break out of the inner-most loop that contains the `break` statement.\n",
    "\n",
    "In the example below, a `break` statement is used to exit a `while` loop when the user inputs the correct number. We'll discuss user input more in the final worksheet."
   ]
  },
  {
   "cell_type": "code",
   "execution_count": 29,
   "id": "91cb7f98",
   "metadata": {},
   "outputs": [
    {
     "name": "stdout",
     "output_type": "stream",
     "text": [
      "Guess a number between 0 and 100 - I only stop when you get it right!\n",
      ">50\n",
      "Little higher\n",
      ">75\n",
      "Little lower\n",
      ">68\n",
      "Little higher\n",
      ">73\n",
      "Little lower\n",
      ">70\n",
      "Correct! Congratulations.\n",
      "Come back and play again soon!\n"
     ]
    }
   ],
   "source": [
    "import random\n",
    "# This program implements a guessing game where numbers are\n",
    "# read in from the user in order to guess an answer known to the\n",
    "# computer\n",
    "\n",
    "# First set the answer to be a random number between 0 and 100\n",
    "answer = random.randint(0, 100)\n",
    "\n",
    "# Explain in words what the user needs to do:\n",
    "print(\"Guess a number between 0 and 100 - I only stop when you get it right!\")\n",
    "\n",
    "# Start a while loop which only exits if the user guesses the number correctly\n",
    "while True:\n",
    "    # This line reads in a guess from the user:\n",
    "    guess = int(input(\">\"))\n",
    "    # Next see whether the guess is too small, too large or right:\n",
    "    if guess < answer:\n",
    "        print(\"Little higher\")\n",
    "    elif guess > answer:\n",
    "        print(\"Little lower\")\n",
    "    else:\n",
    "        # If we get here the answer is right\n",
    "        print(\"Correct! Congratulations.\")\n",
    "        # If the answer is right exit the loop\n",
    "        break\n",
    "print(\"Come back and play again soon!\")"
   ]
  },
  {
   "cell_type": "markdown",
   "id": "ce5ae64a",
   "metadata": {},
   "source": [
    "The other standard way of breaking loops applies if the loop is contained in a function. Since a `return` statement immediately stops the function from being run and returns the control flow to where it was called from, it also breaks out of any loop in the function."
   ]
  },
  {
   "cell_type": "markdown",
   "id": "2dd9aeec",
   "metadata": {},
   "source": [
    "### Exercises\n",
    "Write a `while` loop that sums the positive integers divisible by 9, starting at 0, until the sum is greater than 1,000,000. How many terms does this sum have?\n",
    "\n",
    "*Hint:* you should have one variable to keep track of the sum, and one to keep track of how many terms you've added."
   ]
  },
  {
   "cell_type": "code",
   "execution_count": null,
   "id": "31bbf993",
   "metadata": {},
   "outputs": [],
   "source": []
  },
  {
   "cell_type": "markdown",
   "id": "09fb5c2d",
   "metadata": {},
   "source": [
    "Write a function `collatz_step` which represents the mathematical function\n",
    "$$ f(n) = \\begin{cases} n / 2 & \\text{$n$ is even} \\\\ 3n + 1 & \\text{$n$ is odd} \\end{cases} $$"
   ]
  },
  {
   "cell_type": "code",
   "execution_count": null,
   "id": "427f8ae3",
   "metadata": {},
   "outputs": [],
   "source": []
  },
  {
   "cell_type": "markdown",
   "id": "dcb4fc3f",
   "metadata": {},
   "source": [
    "The Collatz Conjecture is the statement that if we repeatedly apply $f$ to a number $x_0$ to obtain a sequence $(x_i)_{i \\in \\mathbb{N}}$ where $x_{i+1} = f(x_i)$, then we always eventually end up in the cycle $4 \\to 2 \\to 1 \\to 4$.\n",
    "This is an infamously difficult problem, and has remained unsolved since 1937.\n",
    "\n",
    "\n",
    "Use a `while` loop to compute this sequence starting from $x_0 = 100$, and store in a variable `step_count` the number of steps needed to reach 1."
   ]
  },
  {
   "cell_type": "code",
   "execution_count": null,
   "id": "69619160",
   "metadata": {},
   "outputs": [],
   "source": []
  },
  {
   "cell_type": "markdown",
   "id": "6adfa07f",
   "metadata": {},
   "source": [
    "**Optional:**\n",
    "\n",
    "- Make this into a function `collatz_number_steps`, which returns `step_count`.\n",
    "- Find the largest number of steps needed to reach 1 from some $1 \\leq x_0 \\leq 500$. \n",
    "\n",
    "*Hint:* for the last part, you might want to have a variable called `current_maximum` which records the largest number of steps you've found up to this point in the loop."
   ]
  },
  {
   "cell_type": "code",
   "execution_count": 17,
   "id": "fd5271d6",
   "metadata": {},
   "outputs": [],
   "source": []
  }
 ],
 "metadata": {
  "kernelspec": {
   "display_name": "Python 3",
   "language": "python",
   "name": "python3"
  },
  "language_info": {
   "codemirror_mode": {
    "name": "ipython",
    "version": 3
   },
   "file_extension": ".py",
   "mimetype": "text/x-python",
   "name": "python",
   "nbconvert_exporter": "python",
   "pygments_lexer": "ipython3",
   "version": "3.8.8"
  }
 },
 "nbformat": 4,
 "nbformat_minor": 5
}
